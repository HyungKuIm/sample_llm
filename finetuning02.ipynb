{
 "cells": [
  {
   "cell_type": "code",
   "execution_count": null,
   "id": "ddc64f62",
   "metadata": {},
   "outputs": [
    {
     "name": "stdout",
     "output_type": "stream",
     "text": [
      "📁 파일 업로드 중...\n",
      "✅ 업로드 완료! File ID: file-19JhtnseqguFEWjd5SQaS1\n"
     ]
    }
   ],
   "source": [
    "# 필요한 모듈 임포트\n",
    "import os\n",
    "from dotenv import load_dotenv\n",
    "import httpx\n",
    "import time\n",
    "\n",
    "class CustomHTTPClient(httpx.Client):\n",
    "    def __init__(self, *args, **kwargs):\n",
    "        kwargs.pop(\"proxies\", None) # Remove the 'proxies' argument if present\n",
    "        super().__init__(*args, **kwargs)\n",
    "\n",
    "from openai import OpenAI\n",
    "\n",
    "#환경변수 취득\n",
    "load_dotenv()\n",
    "#OpenAI API 클라이언트 생성\n",
    "client = OpenAI(api_key=os.environ['API_KEY'], http_client=CustomHTTPClient())\n",
    "\n",
    "# 모델명\n",
    "# model_name = \"gpt-3.5-turbo-0125\"\n",
    "# 2. 업로드할 학습 데이터 경로 (JSONL 형식)\n",
    "file_path = \"training.jsonl\"  # 실제 경로로 변경\n",
    "\n",
    "# 3. 모델명 (파인튜닝 지원 모델이어야 함)\n",
    "model_name = \"gpt-3.5-turbo-1106\"\n",
    "\n",
    "# 4. 파일 업로드\n",
    "print(\"📁 파일 업로드 중...\")\n",
    "uploaded_file = client.files.create(\n",
    "    file=open(file_path, \"rb\"),\n",
    "    purpose=\"fine-tune\"\n",
    ")\n",
    "print(\"✅ 업로드 완료! File ID:\", uploaded_file.id)\n",
    "\n",
    "\n"
   ]
  },
  {
   "cell_type": "code",
   "execution_count": null,
   "id": "34b43029",
   "metadata": {},
   "outputs": [
    {
     "name": "stdout",
     "output_type": "stream",
     "text": [
      "🚀 파인튜닝 Job 생성 중...\n",
      "✅ Job 생성됨! Job ID: ftjob-ZzpbCzIV8pfyYGzM9Yjs8duw\n",
      "⏳ 파인튜닝 진행 상황 확인 중...\n",
      "🔄 현재 상태: validating_files\n",
      "🔄 현재 상태: validating_files\n",
      "🔄 현재 상태: validating_files\n",
      "🔄 현재 상태: validating_files\n",
      "🔄 현재 상태: validating_files\n",
      "🔄 현재 상태: validating_files\n",
      "🔄 현재 상태: validating_files\n",
      "🔄 현재 상태: running\n",
      "🔄 현재 상태: running\n",
      "🔄 현재 상태: running\n",
      "🔄 현재 상태: running\n",
      "🔄 현재 상태: running\n",
      "🔄 현재 상태: running\n",
      "🔄 현재 상태: running\n",
      "🔄 현재 상태: running\n",
      "🔄 현재 상태: running\n",
      "🔄 현재 상태: running\n",
      "🔄 현재 상태: running\n",
      "🔄 현재 상태: running\n",
      "🔄 현재 상태: running\n",
      "🔄 현재 상태: running\n",
      "🔄 현재 상태: running\n",
      "🔄 현재 상태: running\n",
      "🔄 현재 상태: running\n",
      "🔄 현재 상태: running\n",
      "🔄 현재 상태: running\n",
      "🔄 현재 상태: running\n",
      "🔄 현재 상태: running\n",
      "🔄 현재 상태: running\n",
      "🔄 현재 상태: running\n",
      "🔄 현재 상태: running\n",
      "🔄 현재 상태: running\n",
      "🔄 현재 상태: running\n",
      "🔄 현재 상태: running\n",
      "🔄 현재 상태: running\n",
      "🔄 현재 상태: succeeded\n",
      "\n",
      "📜 이벤트 로그:\n"
     ]
    },
    {
     "ename": "TypeError",
     "evalue": "Jobs.list_events() got an unexpected keyword argument 'id'",
     "output_type": "error",
     "traceback": [
      "\u001b[31m---------------------------------------------------------------------------\u001b[39m",
      "\u001b[31mTypeError\u001b[39m                                 Traceback (most recent call last)",
      "\u001b[36mCell\u001b[39m\u001b[36m \u001b[39m\u001b[32mIn[5]\u001b[39m\u001b[32m, line 22\u001b[39m\n\u001b[32m     20\u001b[39m \u001b[38;5;66;03m# 7. 로그 출력 (선택)\u001b[39;00m\n\u001b[32m     21\u001b[39m \u001b[38;5;28mprint\u001b[39m(\u001b[33m\"\u001b[39m\u001b[38;5;130;01m\\n\u001b[39;00m\u001b[33m📜 이벤트 로그:\u001b[39m\u001b[33m\"\u001b[39m)\n\u001b[32m---> \u001b[39m\u001b[32m22\u001b[39m events = \u001b[43mclient\u001b[49m\u001b[43m.\u001b[49m\u001b[43mfine_tuning\u001b[49m\u001b[43m.\u001b[49m\u001b[43mjobs\u001b[49m\u001b[43m.\u001b[49m\u001b[43mlist_events\u001b[49m\u001b[43m(\u001b[49m\u001b[38;5;28;43mid\u001b[39;49m\u001b[43m=\u001b[49m\u001b[43mjob_id\u001b[49m\u001b[43m)\u001b[49m\n\u001b[32m     23\u001b[39m \u001b[38;5;28;01mfor\u001b[39;00m event \u001b[38;5;129;01min\u001b[39;00m events.data[::-\u001b[32m1\u001b[39m]:  \u001b[38;5;66;03m# 최근 이벤트부터 출력\u001b[39;00m\n\u001b[32m     24\u001b[39m     \u001b[38;5;28mprint\u001b[39m(\u001b[33mf\u001b[39m\u001b[33m\"\u001b[39m\u001b[33m[\u001b[39m\u001b[38;5;132;01m{\u001b[39;00mevent.created_at\u001b[38;5;132;01m}\u001b[39;00m\u001b[33m] \u001b[39m\u001b[38;5;132;01m{\u001b[39;00mevent.message\u001b[38;5;132;01m}\u001b[39;00m\u001b[33m\"\u001b[39m)\n",
      "\u001b[31mTypeError\u001b[39m: Jobs.list_events() got an unexpected keyword argument 'id'"
     ]
    }
   ],
   "source": [
    "# 5. 파인튜닝 job 생성\n",
    "print(\"🚀 파인튜닝 Job 생성 중...\")\n",
    "fine_tune_job = client.fine_tuning.jobs.create(\n",
    "    training_file=uploaded_file.id,\n",
    "    model=model_name\n",
    ")\n",
    "job_id = fine_tune_job.id\n",
    "print(\"✅ Job 생성됨! Job ID:\", job_id)\n",
    "\n",
    "# 6. Job 상태 모니터링\n",
    "print(\"⏳ 파인튜닝 진행 상황 확인 중...\")\n",
    "while True:\n",
    "    job_status = client.fine_tuning.jobs.retrieve(job_id)\n",
    "    status = job_status.status\n",
    "    print(f\"🔄 현재 상태: {status}\")\n",
    "    if status in [\"succeeded\", \"failed\", \"cancelled\"]:\n",
    "        break\n",
    "    time.sleep(10)  # 10초 간격으로 확인\n",
    "\n",
    "# 7. 로그 출력 (선택)\n"
   ]
  },
  {
   "cell_type": "code",
   "execution_count": 6,
   "id": "b4c8f484",
   "metadata": {},
   "outputs": [
    {
     "data": {
      "text/plain": [
       "FineTuningJob(id='ftjob-ZzpbCzIV8pfyYGzM9Yjs8duw', created_at=1744345483, error=Error(code=None, message=None, param=None), fine_tuned_model='ft:gpt-3.5-turbo-1106:personal::BL0KEEow', finished_at=1744345836, hyperparameters=Hyperparameters(batch_size=1, learning_rate_multiplier=2.0, n_epochs=10), model='gpt-3.5-turbo-1106', object='fine_tuning.job', organization_id='org-BEfrLC4bCyHxjR7Ri25802FM', result_files=['file-Y3Gr7ksntWkc7Hy7kjG4JJ'], seed=1360532911, status='succeeded', trained_tokens=2230, training_file='file-19JhtnseqguFEWjd5SQaS1', validation_file=None, estimated_finish=None, integrations=[], metadata=None, method=Method(dpo=None, supervised=MethodSupervised(hyperparameters=MethodSupervisedHyperparameters(batch_size=1, learning_rate_multiplier=2.0, n_epochs=10)), type='supervised'), user_provided_suffix=None)"
      ]
     },
     "execution_count": 6,
     "metadata": {},
     "output_type": "execute_result"
    }
   ],
   "source": [
    "client.fine_tuning.jobs.retrieve(job_id)"
   ]
  },
  {
   "cell_type": "code",
   "execution_count": 9,
   "id": "8f78960e",
   "metadata": {},
   "outputs": [
    {
     "name": "stdout",
     "output_type": "stream",
     "text": [
      "'폭삭 속았수다'는 한국어로 \"정말 속았네요\"라는 뜻입니다\n"
     ]
    }
   ],
   "source": [
    "# プロンプトの設定\n",
    "content = \"'폭삭 속았수다'의 의미에 대해 알고 싶어\"\n",
    "\n",
    "# APIへリクエスト\n",
    "response = client.chat.completions.create(\n",
    "  model=\"ft:gpt-3.5-turbo-1106:personal::BL0KEEow\",\n",
    "  messages=[\n",
    "    {\"role\": \"user\", \"content\": content}\n",
    "  ]\n",
    ")\n",
    "\n",
    "# 言語モデルからの回答を表示\n",
    "print(response.choices[0].message.content.strip())"
   ]
  }
 ],
 "metadata": {
  "kernelspec": {
   "display_name": ".venv",
   "language": "python",
   "name": "python3"
  },
  "language_info": {
   "codemirror_mode": {
    "name": "ipython",
    "version": 3
   },
   "file_extension": ".py",
   "mimetype": "text/x-python",
   "name": "python",
   "nbconvert_exporter": "python",
   "pygments_lexer": "ipython3",
   "version": "3.11.9"
  }
 },
 "nbformat": 4,
 "nbformat_minor": 5
}
