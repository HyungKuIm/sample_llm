{
 "cells": [
  {
   "attachments": {},
   "cell_type": "markdown",
   "metadata": {},
   "source": [
    "# PDFドキュメントの読込\n",
    "\n",
    "# 準備"
   ]
  },
  {
   "cell_type": "code",
   "execution_count": 1,
   "metadata": {},
   "outputs": [],
   "source": [
    "# 必要なモジュールをインポート\n",
    "import os\n",
    "from dotenv import load_dotenv\n",
    "\n",
    "# 環境変数の読み込み\n",
    "load_dotenv()\n",
    "os.environ['OPENAI_API_KEY']  = os.environ['API_KEY']"
   ]
  },
  {
   "attachments": {},
   "cell_type": "markdown",
   "metadata": {},
   "source": [
    "# Indexの構築"
   ]
  },
  {
   "cell_type": "code",
   "execution_count": 2,
   "metadata": {},
   "outputs": [],
   "source": [
    "from pathlib import Path\n",
    "from llama_index.readers.file import PDFReader\n",
    "\n",
    "# PDFドキュメントからテキスト情報を読込\n",
    "loader = PDFReader()\n",
    "documents = loader.load_data(file=Path('./data2/001615363.pdf'))"
   ]
  },
  {
   "cell_type": "code",
   "execution_count": 3,
   "metadata": {},
   "outputs": [],
   "source": [
    "from llama_index.core.text_splitter import SentenceSplitter\n",
    "import tiktoken\n",
    "\n",
    "# NodeParserの作成\n",
    "node_parser = SentenceSplitter(\n",
    "    separator=\"。\",\n",
    "    chunk_size=1024,\n",
    "    chunk_overlap=20,\n",
    "    tokenizer=tiktoken.encoding_for_model(\"gpt-3.5-turbo-0125\").encode)"
   ]
  },
  {
   "cell_type": "code",
   "execution_count": 4,
   "metadata": {},
   "outputs": [],
   "source": [
    "from llama_index.llms.openai import OpenAI\n",
    "from llama_index.core import VectorStoreIndex\n",
    "from llama_index.core import Settings\n",
    "\n",
    "# 言語モデルの指定\n",
    "llm = OpenAI(model='gpt-3.5-turbo-0125', temperature=1.2)\n",
    "\n",
    "# 設定に反映\n",
    "Settings.llm = llm\n",
    "Settings.node_parser = node_parser\n",
    "\n",
    "# Indexの構築\n",
    "index = VectorStoreIndex.from_documents(documents)"
   ]
  },
  {
   "cell_type": "code",
   "execution_count": 5,
   "metadata": {},
   "outputs": [
    {
     "name": "stdout",
     "output_type": "stream",
     "text": [
      "<bound method Encoding.encode of <Encoding 'cl100k_base'>>\n"
     ]
    }
   ],
   "source": [
    "# 参考：言語モデルのエンコーディングを調べる\n",
    "import tiktoken\n",
    "print(tiktoken.encoding_for_model('gpt-3.5-turbo-0125').encode)"
   ]
  },
  {
   "attachments": {},
   "cell_type": "markdown",
   "metadata": {},
   "source": [
    "# テンプレートの作成"
   ]
  },
  {
   "cell_type": "code",
   "execution_count": 6,
   "metadata": {},
   "outputs": [],
   "source": [
    "# テキストQAプロンプトの作成\n",
    "from llama_index.core.llms import ChatMessage, MessageRole\n",
    "from llama_index.core import ChatPromptTemplate\n",
    "\n",
    "# システムプロンプト\n",
    "system_prompt = ChatMessage(\n",
    "    content=(\"\"\"\n",
    "        あなたは世界中で信頼されているQAシステムです。\n",
    "        事前知識ではなく、常に提供されたコンテキスト情報を使用してクエリに回答してください。\n",
    "        従うべきいくつかのルール:\n",
    "        1. 回答内で指定されたコンテキストを直接参照しないでください。\n",
    "        2. 「コンテキストに基づいて、...」や「コンテキスト情報は...」、またはそれに類するような記述は避けてください。\"\"\"),\n",
    "    role=MessageRole.SYSTEM,\n",
    ")\n",
    "\n",
    "# メッセージテンプレート\n",
    "message_templates = [\n",
    "    system_prompt,\n",
    "    ChatMessage(\n",
    "        content=(\"\"\"\n",
    "            コンテキスト情報は以下のとおりです。\n",
    "            ---------------------\n",
    "            {context_str}\n",
    "            ---------------------\n",
    "            事前知識ではなくコンテキスト情報を考慮して、クエリに答えます。\n",
    "            Query: {query_str}\n",
    "            Answer: \"\"\"),\n",
    "        role=MessageRole.USER,\n",
    "    ),\n",
    "]\n",
    "\n",
    "# テキストQAプロンプト\n",
    "text_qa_template = ChatPromptTemplate(message_templates=message_templates)"
   ]
  },
  {
   "cell_type": "code",
   "execution_count": 7,
   "metadata": {},
   "outputs": [],
   "source": [
    "# リファインテンプレートの作成\n",
    "refine_message_templates = [\n",
    "    ChatMessage(\n",
    "        content=(\"\"\"\n",
    "            あなたは、既存の回答を改良する際に2つのモードで厳密に動作するQAシステムのエキスパートです。\n",
    "            1. 新しいコンテキストを使用して元の回答を**書き直す**。\n",
    "            2. 新しいコンテキストが役に立たない場合は、元の回答を**繰り返す**。\n",
    "            回答内で元の回答やコンテキストを直接参照しないでください。\n",
    "            疑問がある場合は、元の答えを繰り返してください。\n",
    "            New Context: {context_msg}\n",
    "            Query: {query_str}\n",
    "            Original Answer: {existing_answer}\n",
    "            New Answer: \"\"\"),\n",
    "        role=MessageRole.USER,\n",
    "    )\n",
    "]\n",
    "\n",
    "# リファインテンプレート\n",
    "refine_template = ChatPromptTemplate(message_templates=refine_message_templates)"
   ]
  },
  {
   "cell_type": "markdown",
   "metadata": {},
   "source": [
    "# Query Engineの作成"
   ]
  },
  {
   "cell_type": "code",
   "execution_count": 8,
   "metadata": {},
   "outputs": [],
   "source": [
    "# Query Engineの作成\n",
    "query_engine = index.as_query_engine(\n",
    "    similarity_top_k=3,\n",
    "    streaming=True,\n",
    "    text_qa_template=text_qa_template,\n",
    "    refine_template=refine_template,\n",
    ")"
   ]
  },
  {
   "attachments": {},
   "cell_type": "markdown",
   "metadata": {},
   "source": [
    "# ユーザーからの質問に回答"
   ]
  },
  {
   "cell_type": "code",
   "execution_count": 9,
   "metadata": {},
   "outputs": [
    {
     "name": "stdout",
     "output_type": "stream",
     "text": [
      "訪日外国人がお土産として購入する商品は、主に「菓子類」が最も高い購入率を示しています。一方、「宝石・貴金属」の購入者単価が最も高いことも示されています。また、購入者の国籍・地域によっても購入傾向や金額に違いが見られます。"
     ]
    }
   ],
   "source": [
    "response = query_engine.query(\"お土産の購入状況を教えて\")\n",
    "# 言語モデルからの回答を表示\n",
    "response.print_response_stream()"
   ]
  },
  {
   "cell_type": "code",
   "execution_count": 10,
   "metadata": {},
   "outputs": [
    {
     "name": "stdout",
     "output_type": "stream",
     "text": [
      "> Source (Node id: 610da10d-953c-4702-9442-449c78ada9df): 訪日外国人消費動向調査 \n",
      " \n",
      "20 \n",
      "３．土産品の購入実態 \n",
      " \n",
      "（１） 費目別購入率 \n",
      " 費目別の購入率（その費目を購入した人の\n",
      "割合）は「菓子類」 （70.4％）、「その他食\n",
      "料品・飲料・...\n",
      "\n",
      "> Source (Node id: f4333031-7c4c-4ad0-b88f-893f8d3abcb6): 訪日外国人消費動向調査 \n",
      " \n",
      "38 \n",
      " \n",
      "（３）買物場所 \n",
      "百貨店・デパート \n",
      "原則として百貨店協会加盟の店舗 \n",
      "家電量販店 \n",
      "PCやカメラ、電気製品を専門に販売する店舗 \n",
      "ファッション専門店 ...\n",
      "\n",
      "> Source (Node id: 0af49976-5ac9-427f-bdb7-882319a91c5a): 24 \n",
      "（３）日本滞在中に役に立った旅行情報源 \n",
      " 日本滞在中に役に立った旅行情報源 で\n",
      "は、 「スマートフォン」が87.8％と最も\n",
      "多い。 次いで、「観光案内所」（14.7％） 、\n",
      "「日本在...\n"
     ]
    }
   ],
   "source": [
    "# 出典を表示\n",
    "print(response.get_formatted_sources())"
   ]
  },
  {
   "attachments": {},
   "cell_type": "markdown",
   "metadata": {},
   "source": [
    "# 詳細なログの表示"
   ]
  },
  {
   "cell_type": "code",
   "execution_count": 11,
   "metadata": {},
   "outputs": [],
   "source": [
    "import logging\n",
    "import sys\n",
    "\n",
    "logging.basicConfig(stream=sys.stdout, level=logging.DEBUG)\n",
    "logging.getLogger().addHandler(logging.StreamHandler(stream=sys.stdout))"
   ]
  },
  {
   "cell_type": "code",
   "execution_count": 12,
   "metadata": {},
   "outputs": [
    {
     "name": "stdout",
     "output_type": "stream",
     "text": [
      "DEBUG:openai._base_client:Request options: {'method': 'post', 'url': '/embeddings', 'files': None, 'post_parser': <function Embeddings.create.<locals>.parser at 0x0000021B35BDB7E0>, 'json_data': {'input': ['お土産の購入状況を教えて'], 'model': 'text-embedding-ada-002', 'encoding_format': 'base64'}}\n",
      "Request options: {'method': 'post', 'url': '/embeddings', 'files': None, 'post_parser': <function Embeddings.create.<locals>.parser at 0x0000021B35BDB7E0>, 'json_data': {'input': ['お土産の購入状況を教えて'], 'model': 'text-embedding-ada-002', 'encoding_format': 'base64'}}\n",
      "DEBUG:openai._base_client:Sending HTTP Request: POST https://api.openai.com/v1/embeddings\n",
      "Sending HTTP Request: POST https://api.openai.com/v1/embeddings\n",
      "DEBUG:httpcore.connection:close.started\n",
      "close.started\n",
      "DEBUG:httpcore.connection:close.complete\n",
      "close.complete\n",
      "DEBUG:httpcore.connection:connect_tcp.started host='api.openai.com' port=443 local_address=None timeout=60.0 socket_options=None\n",
      "connect_tcp.started host='api.openai.com' port=443 local_address=None timeout=60.0 socket_options=None\n",
      "DEBUG:httpcore.connection:connect_tcp.complete return_value=<httpcore._backends.sync.SyncStream object at 0x0000021B7AA73D10>\n",
      "connect_tcp.complete return_value=<httpcore._backends.sync.SyncStream object at 0x0000021B7AA73D10>\n",
      "DEBUG:httpcore.connection:start_tls.started ssl_context=<ssl.SSLContext object at 0x0000021B35732F00> server_hostname='api.openai.com' timeout=60.0\n",
      "start_tls.started ssl_context=<ssl.SSLContext object at 0x0000021B35732F00> server_hostname='api.openai.com' timeout=60.0\n",
      "DEBUG:httpcore.connection:start_tls.complete return_value=<httpcore._backends.sync.SyncStream object at 0x0000021B35BFBB50>\n",
      "start_tls.complete return_value=<httpcore._backends.sync.SyncStream object at 0x0000021B35BFBB50>\n",
      "DEBUG:httpcore.http11:send_request_headers.started request=<Request [b'POST']>\n",
      "send_request_headers.started request=<Request [b'POST']>\n",
      "DEBUG:httpcore.http11:send_request_headers.complete\n",
      "send_request_headers.complete\n",
      "DEBUG:httpcore.http11:send_request_body.started request=<Request [b'POST']>\n",
      "send_request_body.started request=<Request [b'POST']>\n",
      "DEBUG:httpcore.http11:send_request_body.complete\n",
      "send_request_body.complete\n",
      "DEBUG:httpcore.http11:receive_response_headers.started request=<Request [b'POST']>\n",
      "receive_response_headers.started request=<Request [b'POST']>\n",
      "DEBUG:httpcore.http11:receive_response_headers.complete return_value=(b'HTTP/1.1', 200, b'OK', [(b'Date', b'Tue, 22 Apr 2025 13:25:05 GMT'), (b'Content-Type', b'application/json'), (b'Transfer-Encoding', b'chunked'), (b'Connection', b'keep-alive'), (b'access-control-allow-origin', b'*'), (b'access-control-expose-headers', b'X-Request-ID'), (b'openai-model', b'text-embedding-ada-002-v2'), (b'openai-organization', b'user-jflw7scykuzw4avvi8n1kpgi'), (b'openai-processing-ms', b'47'), (b'openai-version', b'2020-10-01'), (b'strict-transport-security', b'max-age=31536000; includeSubDomains; preload'), (b'via', b'envoy-router-6c4db7659f-9j9wb'), (b'x-envoy-upstream-service-time', b'32'), (b'x-ratelimit-limit-requests', b'3000'), (b'x-ratelimit-limit-tokens', b'1000000'), (b'x-ratelimit-remaining-requests', b'2999'), (b'x-ratelimit-remaining-tokens', b'999990'), (b'x-ratelimit-reset-requests', b'20ms'), (b'x-ratelimit-reset-tokens', b'0s'), (b'x-request-id', b'req_ed8f64f613622fde5243a059972d2f2f'), (b'cf-cache-status', b'DYNAMIC'), (b'X-Content-Type-Options', b'nosniff'), (b'Server', b'cloudflare'), (b'CF-RAY', b'934571f1be63ea2c-ICN'), (b'Content-Encoding', b'gzip'), (b'alt-svc', b'h3=\":443\"; ma=86400')])\n",
      "receive_response_headers.complete return_value=(b'HTTP/1.1', 200, b'OK', [(b'Date', b'Tue, 22 Apr 2025 13:25:05 GMT'), (b'Content-Type', b'application/json'), (b'Transfer-Encoding', b'chunked'), (b'Connection', b'keep-alive'), (b'access-control-allow-origin', b'*'), (b'access-control-expose-headers', b'X-Request-ID'), (b'openai-model', b'text-embedding-ada-002-v2'), (b'openai-organization', b'user-jflw7scykuzw4avvi8n1kpgi'), (b'openai-processing-ms', b'47'), (b'openai-version', b'2020-10-01'), (b'strict-transport-security', b'max-age=31536000; includeSubDomains; preload'), (b'via', b'envoy-router-6c4db7659f-9j9wb'), (b'x-envoy-upstream-service-time', b'32'), (b'x-ratelimit-limit-requests', b'3000'), (b'x-ratelimit-limit-tokens', b'1000000'), (b'x-ratelimit-remaining-requests', b'2999'), (b'x-ratelimit-remaining-tokens', b'999990'), (b'x-ratelimit-reset-requests', b'20ms'), (b'x-ratelimit-reset-tokens', b'0s'), (b'x-request-id', b'req_ed8f64f613622fde5243a059972d2f2f'), (b'cf-cache-status', b'DYNAMIC'), (b'X-Content-Type-Options', b'nosniff'), (b'Server', b'cloudflare'), (b'CF-RAY', b'934571f1be63ea2c-ICN'), (b'Content-Encoding', b'gzip'), (b'alt-svc', b'h3=\":443\"; ma=86400')])\n",
      "INFO:httpx:HTTP Request: POST https://api.openai.com/v1/embeddings \"HTTP/1.1 200 OK\"\n",
      "HTTP Request: POST https://api.openai.com/v1/embeddings \"HTTP/1.1 200 OK\"\n",
      "DEBUG:httpcore.http11:receive_response_body.started request=<Request [b'POST']>\n",
      "receive_response_body.started request=<Request [b'POST']>\n",
      "DEBUG:httpcore.http11:receive_response_body.complete\n",
      "receive_response_body.complete\n",
      "DEBUG:httpcore.http11:response_closed.started\n",
      "response_closed.started\n",
      "DEBUG:httpcore.http11:response_closed.complete\n",
      "response_closed.complete\n",
      "DEBUG:openai._base_client:HTTP Response: POST https://api.openai.com/v1/embeddings \"200 OK\" Headers({'date': 'Tue, 22 Apr 2025 13:25:05 GMT', 'content-type': 'application/json', 'transfer-encoding': 'chunked', 'connection': 'keep-alive', 'access-control-allow-origin': '*', 'access-control-expose-headers': 'X-Request-ID', 'openai-model': 'text-embedding-ada-002-v2', 'openai-organization': 'user-jflw7scykuzw4avvi8n1kpgi', 'openai-processing-ms': '47', 'openai-version': '2020-10-01', 'strict-transport-security': 'max-age=31536000; includeSubDomains; preload', 'via': 'envoy-router-6c4db7659f-9j9wb', 'x-envoy-upstream-service-time': '32', 'x-ratelimit-limit-requests': '3000', 'x-ratelimit-limit-tokens': '1000000', 'x-ratelimit-remaining-requests': '2999', 'x-ratelimit-remaining-tokens': '999990', 'x-ratelimit-reset-requests': '20ms', 'x-ratelimit-reset-tokens': '0s', 'x-request-id': 'req_ed8f64f613622fde5243a059972d2f2f', 'cf-cache-status': 'DYNAMIC', 'x-content-type-options': 'nosniff', 'server': 'cloudflare', 'cf-ray': '934571f1be63ea2c-ICN', 'content-encoding': 'gzip', 'alt-svc': 'h3=\":443\"; ma=86400'})\n",
      "HTTP Response: POST https://api.openai.com/v1/embeddings \"200 OK\" Headers({'date': 'Tue, 22 Apr 2025 13:25:05 GMT', 'content-type': 'application/json', 'transfer-encoding': 'chunked', 'connection': 'keep-alive', 'access-control-allow-origin': '*', 'access-control-expose-headers': 'X-Request-ID', 'openai-model': 'text-embedding-ada-002-v2', 'openai-organization': 'user-jflw7scykuzw4avvi8n1kpgi', 'openai-processing-ms': '47', 'openai-version': '2020-10-01', 'strict-transport-security': 'max-age=31536000; includeSubDomains; preload', 'via': 'envoy-router-6c4db7659f-9j9wb', 'x-envoy-upstream-service-time': '32', 'x-ratelimit-limit-requests': '3000', 'x-ratelimit-limit-tokens': '1000000', 'x-ratelimit-remaining-requests': '2999', 'x-ratelimit-remaining-tokens': '999990', 'x-ratelimit-reset-requests': '20ms', 'x-ratelimit-reset-tokens': '0s', 'x-request-id': 'req_ed8f64f613622fde5243a059972d2f2f', 'cf-cache-status': 'DYNAMIC', 'x-content-type-options': 'nosniff', 'server': 'cloudflare', 'cf-ray': '934571f1be63ea2c-ICN', 'content-encoding': 'gzip', 'alt-svc': 'h3=\":443\"; ma=86400'})\n",
      "DEBUG:openai._base_client:request_id: req_ed8f64f613622fde5243a059972d2f2f\n",
      "request_id: req_ed8f64f613622fde5243a059972d2f2f\n",
      "DEBUG:llama_index.core.indices.utils:> Top 3 nodes:\n",
      "> [Node 610da10d-953c-4702-9442-449c78ada9df] [Similarity score:             0.812478] 訪日外国人消費動向調査 \n",
      " \n",
      "20 \n",
      "３．土産品の購入実態 \n",
      " \n",
      "（１） 費目別購入率 \n",
      " 費目別の購入率（その費目を購入した人の\n",
      "割合）は「菓子類」 （70.4％）、「その他食\n",
      "料品・飲料・...\n",
      "> [Node f4333031-7c4c-4ad0-b88f-893f8d3abcb6] [Similarity score:             0.805805] 訪日外国人消費動向調査 \n",
      " \n",
      "38 \n",
      " \n",
      "（３）買物場所 \n",
      "百貨店・デパート \n",
      "原則として百貨店協会加盟の店舗 \n",
      "家電量販店 \n",
      "PCやカメラ、電気製品を専門に販売する店舗 \n",
      "ファッション専門店 ...\n",
      "> [Node 0af49976-5ac9-427f-bdb7-882319a91c5a] [Similarity score:             0.797361] 24 \n",
      "（３）日本滞在中に役に立った旅行情報源 \n",
      " 日本滞在中に役に立った旅行情報源 で\n",
      "は、 「スマートフォン」が87.8％と最も\n",
      "多い。 次いで、「観光案内所」（14.7％） 、\n",
      "「日本在...\n",
      "> Top 3 nodes:\n",
      "> [Node 610da10d-953c-4702-9442-449c78ada9df] [Similarity score:             0.812478] 訪日外国人消費動向調査 \n",
      " \n",
      "20 \n",
      "３．土産品の購入実態 \n",
      " \n",
      "（１） 費目別購入率 \n",
      " 費目別の購入率（その費目を購入した人の\n",
      "割合）は「菓子類」 （70.4％）、「その他食\n",
      "料品・飲料・...\n",
      "> [Node f4333031-7c4c-4ad0-b88f-893f8d3abcb6] [Similarity score:             0.805805] 訪日外国人消費動向調査 \n",
      " \n",
      "38 \n",
      " \n",
      "（３）買物場所 \n",
      "百貨店・デパート \n",
      "原則として百貨店協会加盟の店舗 \n",
      "家電量販店 \n",
      "PCやカメラ、電気製品を専門に販売する店舗 \n",
      "ファッション専門店 ...\n",
      "> [Node 0af49976-5ac9-427f-bdb7-882319a91c5a] [Similarity score:             0.797361] 24 \n",
      "（３）日本滞在中に役に立った旅行情報源 \n",
      " 日本滞在中に役に立った旅行情報源 で\n",
      "は、 「スマートフォン」が87.8％と最も\n",
      "多い。 次いで、「観光案内所」（14.7％） 、\n",
      "「日本在...\n",
      "DEBUG:openai._base_client:Request options: {'method': 'post', 'url': '/chat/completions', 'files': None, 'json_data': {'messages': [{'role': 'system', 'content': '\\n        あなたは世界中で信頼されているQAシステムです。\\n        事前知識ではなく、常に提供されたコンテキスト情報を使用してクエリに回答してください。\\n        従うべきいくつかのルール:\\n        1. 回答内で指定されたコンテキストを直接参照しないでください。\\n        2. 「コンテキストに基づいて、...」や「コンテキスト情報は...」、またはそれに類するような記述は避けてください。'}, {'role': 'user', 'content': '\\n            コンテキスト情報は以下のとおりです。\\n            ---------------------\\n            page_label: 22\\nfile_name: 001615363.pdf\\n\\n訪日外国人消費動向調査 \\n \\n20 \\n３．土産品の購入実態 \\n \\n（１） 費目別購入率 \\n\\uf06c 費目別の購入率（その費目を購入した人の\\n割合）は「菓子類」 （70.4％）、「その他食\\n料品・飲料・たばこ」 （43.4％）、 「衣類」\\n（33.8％）の順で高い（図表3-1）。 \\n\\uf06c 国籍・地域別で最も購入率が高い費目は、\\n韓国、台湾、香港、中国で「菓子類」 （それ\\nぞれ 82.9％、72.9％、63.3％、73.1％）、\\n米国で「その他食料品・飲料・たばこ」\\n（54.1％）となっている。 \\n \\n \\n（２）費目別購入者単価 \\n\\uf06c 費目別の購入者単価（その費目を購入し\\nた人における当該費目の1人当たり平均\\n支出）は、「宝石・貴金属」が8.3万円\\nと最も高い（図表3-1）。 \\n\\uf06c 国籍・地域別では、台湾と香港の「宝\\n石・貴金属」（それぞれ19.9万円、\\n16.6万円）が他の国籍・地域に比べ高\\nい。\\n  \\n図表3-1 買物代の費目別購入率および購入者単価 （主要国籍･地域別、全目的） \\n図表3-2 買物代の費目別購入率および購入者単価 （主要国籍･地域別、観光・レジャー目的） \\n国籍･地域\\n費目 購入率\\n購入者\\n単価\\n（円）\\n購入率\\n購入者\\n単価\\n（円）\\n購入率\\n購入者\\n単価\\n（円）\\n購入率\\n購入者\\n単価\\n（円）\\n購入率\\n購入者\\n単価\\n（円）\\n購入率\\n購入者\\n単価\\n（円）\\n菓子類 70.4% 10,646 82.9% 7,585 72.9% 12,517 63.3% 12,864 73.1% 16,057 43.7% 10,962\\n酒類 25.2% 10,365 34.5% 7,995 20.3% 10,001 14.7% 17,047 13.9% 18,150 28.5% 12,405\\n生鮮農産物 5.9% 22,304 3.8% 38,719 10.2% 12,699 10.3% 8,165 8.6% 36,296 3.8% 8,949\\nその他食料品・飲料・たばこ 43.4% 12,931 37.2% 10,579 41.5% 12,795 44.9% 13,481 49.7% 26,308 54.1% 14,773\\n化粧品・香水 19.2% 19,434 15.1% 10,665 25.9% 19,170 26.5% 21,977 41.5% 62,923 6.7% 15,992\\n医薬品 24.3% 13,712 30.3% 8,120 45.\\n\\npage_label: 40\\nfile_name: 001615363.pdf\\n\\n訪日外国人消費動向調査 \\n \\n38 \\n \\n（３）買物場所 \\n百貨店・デパート \\n原則として百貨店協会加盟の店舗 \\n家電量販店 \\nPCやカメラ、電気製品を専門に販売する店舗 \\nファッション専門店 \\n服・鞄・靴・アクセサリー・高級腕時計等\\nを専門に販売する店舗 \\n100 円ショップ \\n店内の商品を原則として 1 点 100 日本円均\\n一で 販売する形態の小売店 \\n高速道路の SA・道の駅 \\n高速道路のサービスエリア（SA）やパーキ\\nングエリア（PA）、国土交通省に登録され\\nている「道の駅」 \\n観光地の土産店 \\n観光地内にある小売店 \\n宿泊施設 \\n旅館・ホテル等の館内に併設されている土産店 \\nスーパーマーケット \\n高頻度に消費される食料品や日用品等をセル\\nフサービスで短時間に買えるようにした小売\\n店舗 \\nコンビニエンスストア \\n年中無休で長時間の営業を行い、小規模な\\n店舗において主に食品、日用雑貨等多数の\\n品種を扱う形態の小売店 \\nドラッグストア \\n医薬品や化粧品、トイレタリーを中心と\\nし、併せて日用品や文房具、食料品等を取\\n扱う店舗 \\nディスカウントストア \\n一時的なセールではなく常に低価格で商品\\nを提供する安売り店舗で、一般的には生鮮\\n食料品を除く生活用品を総合的に取り扱う \\nアウトレットモール \\n「メーカー品」（通常、メーカーのブラン\\nド名を表示したもの）や、「高級ブランド\\n品」（通常、百貨店等で高額でも購入者が\\nつき、販売可能なもの）を低価格で販売す\\nる複数のアウトレット店舗を一箇所に集め\\nモールを形成したショッピングセンター \\n都心の複合商業施設 \\n都心部に立地し、商業施設や飲食施設、映\\n画館、遊技場等の娯楽施設等が一体的に整\\n備された施設 \\nその他ショッピングセンター \\n複数の小売店舗が入居する商業施設で、上\\n記の買物場所に当てはまらないもの \\n鉄道駅構内の店舗 \\n駅構内にある小型売店 \\n注）駅ビルは「百貨店・デパート」に含まれる。\\n\\npage_label: 26\\nfile_name: 001615363.pdf\\n\\n24 \\n（３）日本滞在中に役に立った旅行情報源 \\n\\uf06c 日本滞在中に役に立った旅行情報源 で\\nは、 「スマートフォン」が87.8％と最も\\n多い。 次いで、「観光案内所」（14.7％） 、\\n「日本在住の親族・知人」（12.6％）、\\n「パソコン・タブレット端末」（11.9％） 、\\n「宿泊施設」（9.2％）の順で多い（図表\\n5-3）。 \\n \\n \\n図表5-3 日本滞在中に役に立った旅行情報源 \\n（全国籍･地域、複数回答） \\n \\n（４）日本滞在中に 役に立った旅行情報 \\n\\uf06c 日本滞在中に役に立った旅行情報では、\\n「交通手段」が68.0％と最も多い。 次い\\nで「飲食店」（56.5％）、「観光施設」\\n（34.6％）、「宿泊施設」（32.2％）、\\n「買物場所」 （29.1％）、「無料Wi-Fi」\\n（20.2％）の順で多い（図表5-4）。 \\n \\n \\n \\n \\n \\n図表5-4 日本滞在中に役に立った旅行情報 \\n（全国籍･地域、複数回答） \\n \\n \\n \\n14.7%\\n9.2%\\n2.4%\\n1.9%\\n87.8%\\n11.9%\\n12.6%\\n1.1%\\n4.3%\\n0% 20% 40% 60% 80% 100%\\n観光案内所\\n宿泊施設\\n旅行ガイドブック（有料）\\nフリーペーパー（無料）\\nスマートフォン\\nパソコン・タブレット端末\\n日本在住の親族・知人\\nその他\\n特になし\\n32.2%\\n68.0%\\n56.5%\\n34.6%\\n7.8%\\n18.2%\\n29.1%\\n20.2%\\n0.8%\\n10.0%\\n1.8%\\n5.5%\\n4.2%\\n3.4%\\n2.3%\\n9.1%\\n1.2%\\n7.0%\\n0% 50% 100%\\n宿泊施設\\n交通手段\\n飲食店\\n観光施設\\nイベント\\n土産物\\n買物場所\\n無料Wi-Fi\\n祈祷室\\nATM\\n宅配便\\n日本文化体験プログラム\\n自然体験ツアー・農山漁\\n村体験\\n通訳案内士・観光ガイド\\n有料での住宅宿泊(Airbnb\\n等)\\nクレジットカード利用可能\\n店舗\\nその他\\n特になし\\n            ---------------------\\n            事前知識ではなくコンテキスト情報を考慮して、クエリに答えます。\\n            Query: お土産の購入状況を教えて\\n            Answer: '}], 'model': 'gpt-3.5-turbo-0125', 'stream': True, 'temperature': 1.2}}\n",
      "Request options: {'method': 'post', 'url': '/chat/completions', 'files': None, 'json_data': {'messages': [{'role': 'system', 'content': '\\n        あなたは世界中で信頼されているQAシステムです。\\n        事前知識ではなく、常に提供されたコンテキスト情報を使用してクエリに回答してください。\\n        従うべきいくつかのルール:\\n        1. 回答内で指定されたコンテキストを直接参照しないでください。\\n        2. 「コンテキストに基づいて、...」や「コンテキスト情報は...」、またはそれに類するような記述は避けてください。'}, {'role': 'user', 'content': '\\n            コンテキスト情報は以下のとおりです。\\n            ---------------------\\n            page_label: 22\\nfile_name: 001615363.pdf\\n\\n訪日外国人消費動向調査 \\n \\n20 \\n３．土産品の購入実態 \\n \\n（１） 費目別購入率 \\n\\uf06c 費目別の購入率（その費目を購入した人の\\n割合）は「菓子類」 （70.4％）、「その他食\\n料品・飲料・たばこ」 （43.4％）、 「衣類」\\n（33.8％）の順で高い（図表3-1）。 \\n\\uf06c 国籍・地域別で最も購入率が高い費目は、\\n韓国、台湾、香港、中国で「菓子類」 （それ\\nぞれ 82.9％、72.9％、63.3％、73.1％）、\\n米国で「その他食料品・飲料・たばこ」\\n（54.1％）となっている。 \\n \\n \\n（２）費目別購入者単価 \\n\\uf06c 費目別の購入者単価（その費目を購入し\\nた人における当該費目の1人当たり平均\\n支出）は、「宝石・貴金属」が8.3万円\\nと最も高い（図表3-1）。 \\n\\uf06c 国籍・地域別では、台湾と香港の「宝\\n石・貴金属」（それぞれ19.9万円、\\n16.6万円）が他の国籍・地域に比べ高\\nい。\\n  \\n図表3-1 買物代の費目別購入率および購入者単価 （主要国籍･地域別、全目的） \\n図表3-2 買物代の費目別購入率および購入者単価 （主要国籍･地域別、観光・レジャー目的） \\n国籍･地域\\n費目 購入率\\n購入者\\n単価\\n（円）\\n購入率\\n購入者\\n単価\\n（円）\\n購入率\\n購入者\\n単価\\n（円）\\n購入率\\n購入者\\n単価\\n（円）\\n購入率\\n購入者\\n単価\\n（円）\\n購入率\\n購入者\\n単価\\n（円）\\n菓子類 70.4% 10,646 82.9% 7,585 72.9% 12,517 63.3% 12,864 73.1% 16,057 43.7% 10,962\\n酒類 25.2% 10,365 34.5% 7,995 20.3% 10,001 14.7% 17,047 13.9% 18,150 28.5% 12,405\\n生鮮農産物 5.9% 22,304 3.8% 38,719 10.2% 12,699 10.3% 8,165 8.6% 36,296 3.8% 8,949\\nその他食料品・飲料・たばこ 43.4% 12,931 37.2% 10,579 41.5% 12,795 44.9% 13,481 49.7% 26,308 54.1% 14,773\\n化粧品・香水 19.2% 19,434 15.1% 10,665 25.9% 19,170 26.5% 21,977 41.5% 62,923 6.7% 15,992\\n医薬品 24.3% 13,712 30.3% 8,120 45.\\n\\npage_label: 40\\nfile_name: 001615363.pdf\\n\\n訪日外国人消費動向調査 \\n \\n38 \\n \\n（３）買物場所 \\n百貨店・デパート \\n原則として百貨店協会加盟の店舗 \\n家電量販店 \\nPCやカメラ、電気製品を専門に販売する店舗 \\nファッション専門店 \\n服・鞄・靴・アクセサリー・高級腕時計等\\nを専門に販売する店舗 \\n100 円ショップ \\n店内の商品を原則として 1 点 100 日本円均\\n一で 販売する形態の小売店 \\n高速道路の SA・道の駅 \\n高速道路のサービスエリア（SA）やパーキ\\nングエリア（PA）、国土交通省に登録され\\nている「道の駅」 \\n観光地の土産店 \\n観光地内にある小売店 \\n宿泊施設 \\n旅館・ホテル等の館内に併設されている土産店 \\nスーパーマーケット \\n高頻度に消費される食料品や日用品等をセル\\nフサービスで短時間に買えるようにした小売\\n店舗 \\nコンビニエンスストア \\n年中無休で長時間の営業を行い、小規模な\\n店舗において主に食品、日用雑貨等多数の\\n品種を扱う形態の小売店 \\nドラッグストア \\n医薬品や化粧品、トイレタリーを中心と\\nし、併せて日用品や文房具、食料品等を取\\n扱う店舗 \\nディスカウントストア \\n一時的なセールではなく常に低価格で商品\\nを提供する安売り店舗で、一般的には生鮮\\n食料品を除く生活用品を総合的に取り扱う \\nアウトレットモール \\n「メーカー品」（通常、メーカーのブラン\\nド名を表示したもの）や、「高級ブランド\\n品」（通常、百貨店等で高額でも購入者が\\nつき、販売可能なもの）を低価格で販売す\\nる複数のアウトレット店舗を一箇所に集め\\nモールを形成したショッピングセンター \\n都心の複合商業施設 \\n都心部に立地し、商業施設や飲食施設、映\\n画館、遊技場等の娯楽施設等が一体的に整\\n備された施設 \\nその他ショッピングセンター \\n複数の小売店舗が入居する商業施設で、上\\n記の買物場所に当てはまらないもの \\n鉄道駅構内の店舗 \\n駅構内にある小型売店 \\n注）駅ビルは「百貨店・デパート」に含まれる。\\n\\npage_label: 26\\nfile_name: 001615363.pdf\\n\\n24 \\n（３）日本滞在中に役に立った旅行情報源 \\n\\uf06c 日本滞在中に役に立った旅行情報源 で\\nは、 「スマートフォン」が87.8％と最も\\n多い。 次いで、「観光案内所」（14.7％） 、\\n「日本在住の親族・知人」（12.6％）、\\n「パソコン・タブレット端末」（11.9％） 、\\n「宿泊施設」（9.2％）の順で多い（図表\\n5-3）。 \\n \\n \\n図表5-3 日本滞在中に役に立った旅行情報源 \\n（全国籍･地域、複数回答） \\n \\n（４）日本滞在中に 役に立った旅行情報 \\n\\uf06c 日本滞在中に役に立った旅行情報では、\\n「交通手段」が68.0％と最も多い。 次い\\nで「飲食店」（56.5％）、「観光施設」\\n（34.6％）、「宿泊施設」（32.2％）、\\n「買物場所」 （29.1％）、「無料Wi-Fi」\\n（20.2％）の順で多い（図表5-4）。 \\n \\n \\n \\n \\n \\n図表5-4 日本滞在中に役に立った旅行情報 \\n（全国籍･地域、複数回答） \\n \\n \\n \\n14.7%\\n9.2%\\n2.4%\\n1.9%\\n87.8%\\n11.9%\\n12.6%\\n1.1%\\n4.3%\\n0% 20% 40% 60% 80% 100%\\n観光案内所\\n宿泊施設\\n旅行ガイドブック（有料）\\nフリーペーパー（無料）\\nスマートフォン\\nパソコン・タブレット端末\\n日本在住の親族・知人\\nその他\\n特になし\\n32.2%\\n68.0%\\n56.5%\\n34.6%\\n7.8%\\n18.2%\\n29.1%\\n20.2%\\n0.8%\\n10.0%\\n1.8%\\n5.5%\\n4.2%\\n3.4%\\n2.3%\\n9.1%\\n1.2%\\n7.0%\\n0% 50% 100%\\n宿泊施設\\n交通手段\\n飲食店\\n観光施設\\nイベント\\n土産物\\n買物場所\\n無料Wi-Fi\\n祈祷室\\nATM\\n宅配便\\n日本文化体験プログラム\\n自然体験ツアー・農山漁\\n村体験\\n通訳案内士・観光ガイド\\n有料での住宅宿泊(Airbnb\\n等)\\nクレジットカード利用可能\\n店舗\\nその他\\n特になし\\n            ---------------------\\n            事前知識ではなくコンテキスト情報を考慮して、クエリに答えます。\\n            Query: お土産の購入状況を教えて\\n            Answer: '}], 'model': 'gpt-3.5-turbo-0125', 'stream': True, 'temperature': 1.2}}\n",
      "DEBUG:openai._base_client:Sending HTTP Request: POST https://api.openai.com/v1/chat/completions\n",
      "Sending HTTP Request: POST https://api.openai.com/v1/chat/completions\n",
      "DEBUG:httpcore.connection:close.started\n",
      "close.started\n",
      "DEBUG:httpcore.connection:close.complete\n",
      "close.complete\n",
      "DEBUG:httpcore.connection:connect_tcp.started host='api.openai.com' port=443 local_address=None timeout=60.0 socket_options=None\n",
      "connect_tcp.started host='api.openai.com' port=443 local_address=None timeout=60.0 socket_options=None\n",
      "DEBUG:httpcore.connection:connect_tcp.complete return_value=<httpcore._backends.sync.SyncStream object at 0x0000021B35B9BE10>\n",
      "connect_tcp.complete return_value=<httpcore._backends.sync.SyncStream object at 0x0000021B35B9BE10>\n",
      "DEBUG:httpcore.connection:start_tls.started ssl_context=<ssl.SSLContext object at 0x0000021B35733AD0> server_hostname='api.openai.com' timeout=60.0\n",
      "start_tls.started ssl_context=<ssl.SSLContext object at 0x0000021B35733AD0> server_hostname='api.openai.com' timeout=60.0\n",
      "DEBUG:httpcore.connection:start_tls.complete return_value=<httpcore._backends.sync.SyncStream object at 0x0000021B35C00B50>\n",
      "start_tls.complete return_value=<httpcore._backends.sync.SyncStream object at 0x0000021B35C00B50>\n",
      "DEBUG:httpcore.http11:send_request_headers.started request=<Request [b'POST']>\n",
      "send_request_headers.started request=<Request [b'POST']>\n",
      "DEBUG:httpcore.http11:send_request_headers.complete\n",
      "send_request_headers.complete\n",
      "DEBUG:httpcore.http11:send_request_body.started request=<Request [b'POST']>\n",
      "send_request_body.started request=<Request [b'POST']>\n",
      "DEBUG:httpcore.http11:send_request_body.complete\n",
      "send_request_body.complete\n",
      "DEBUG:httpcore.http11:receive_response_headers.started request=<Request [b'POST']>\n",
      "receive_response_headers.started request=<Request [b'POST']>\n",
      "DEBUG:httpcore.http11:receive_response_headers.complete return_value=(b'HTTP/1.1', 200, b'OK', [(b'Date', b'Tue, 22 Apr 2025 13:25:05 GMT'), (b'Content-Type', b'text/event-stream; charset=utf-8'), (b'Transfer-Encoding', b'chunked'), (b'Connection', b'keep-alive'), (b'access-control-expose-headers', b'X-Request-ID'), (b'openai-organization', b'user-jflw7scykuzw4avvi8n1kpgi'), (b'openai-processing-ms', b'305'), (b'openai-version', b'2020-10-01'), (b'x-ratelimit-limit-requests', b'10000'), (b'x-ratelimit-limit-tokens', b'200000'), (b'x-ratelimit-remaining-requests', b'9999'), (b'x-ratelimit-remaining-tokens', b'198248'), (b'x-ratelimit-reset-requests', b'8.64s'), (b'x-ratelimit-reset-tokens', b'525ms'), (b'x-request-id', b'req_90d6d4bdd1195826afb6494a314cc04e'), (b'strict-transport-security', b'max-age=31536000; includeSubDomains; preload'), (b'cf-cache-status', b'DYNAMIC'), (b'X-Content-Type-Options', b'nosniff'), (b'Server', b'cloudflare'), (b'CF-RAY', b'934571f3cdffc055-ICN'), (b'alt-svc', b'h3=\":443\"; ma=86400')])\n",
      "receive_response_headers.complete return_value=(b'HTTP/1.1', 200, b'OK', [(b'Date', b'Tue, 22 Apr 2025 13:25:05 GMT'), (b'Content-Type', b'text/event-stream; charset=utf-8'), (b'Transfer-Encoding', b'chunked'), (b'Connection', b'keep-alive'), (b'access-control-expose-headers', b'X-Request-ID'), (b'openai-organization', b'user-jflw7scykuzw4avvi8n1kpgi'), (b'openai-processing-ms', b'305'), (b'openai-version', b'2020-10-01'), (b'x-ratelimit-limit-requests', b'10000'), (b'x-ratelimit-limit-tokens', b'200000'), (b'x-ratelimit-remaining-requests', b'9999'), (b'x-ratelimit-remaining-tokens', b'198248'), (b'x-ratelimit-reset-requests', b'8.64s'), (b'x-ratelimit-reset-tokens', b'525ms'), (b'x-request-id', b'req_90d6d4bdd1195826afb6494a314cc04e'), (b'strict-transport-security', b'max-age=31536000; includeSubDomains; preload'), (b'cf-cache-status', b'DYNAMIC'), (b'X-Content-Type-Options', b'nosniff'), (b'Server', b'cloudflare'), (b'CF-RAY', b'934571f3cdffc055-ICN'), (b'alt-svc', b'h3=\":443\"; ma=86400')])\n",
      "INFO:httpx:HTTP Request: POST https://api.openai.com/v1/chat/completions \"HTTP/1.1 200 OK\"\n",
      "HTTP Request: POST https://api.openai.com/v1/chat/completions \"HTTP/1.1 200 OK\"\n",
      "DEBUG:openai._base_client:HTTP Response: POST https://api.openai.com/v1/chat/completions \"200 OK\" Headers({'date': 'Tue, 22 Apr 2025 13:25:05 GMT', 'content-type': 'text/event-stream; charset=utf-8', 'transfer-encoding': 'chunked', 'connection': 'keep-alive', 'access-control-expose-headers': 'X-Request-ID', 'openai-organization': 'user-jflw7scykuzw4avvi8n1kpgi', 'openai-processing-ms': '305', 'openai-version': '2020-10-01', 'x-ratelimit-limit-requests': '10000', 'x-ratelimit-limit-tokens': '200000', 'x-ratelimit-remaining-requests': '9999', 'x-ratelimit-remaining-tokens': '198248', 'x-ratelimit-reset-requests': '8.64s', 'x-ratelimit-reset-tokens': '525ms', 'x-request-id': 'req_90d6d4bdd1195826afb6494a314cc04e', 'strict-transport-security': 'max-age=31536000; includeSubDomains; preload', 'cf-cache-status': 'DYNAMIC', 'x-content-type-options': 'nosniff', 'server': 'cloudflare', 'cf-ray': '934571f3cdffc055-ICN', 'alt-svc': 'h3=\":443\"; ma=86400'})\n",
      "HTTP Response: POST https://api.openai.com/v1/chat/completions \"200 OK\" Headers({'date': 'Tue, 22 Apr 2025 13:25:05 GMT', 'content-type': 'text/event-stream; charset=utf-8', 'transfer-encoding': 'chunked', 'connection': 'keep-alive', 'access-control-expose-headers': 'X-Request-ID', 'openai-organization': 'user-jflw7scykuzw4avvi8n1kpgi', 'openai-processing-ms': '305', 'openai-version': '2020-10-01', 'x-ratelimit-limit-requests': '10000', 'x-ratelimit-limit-tokens': '200000', 'x-ratelimit-remaining-requests': '9999', 'x-ratelimit-remaining-tokens': '198248', 'x-ratelimit-reset-requests': '8.64s', 'x-ratelimit-reset-tokens': '525ms', 'x-request-id': 'req_90d6d4bdd1195826afb6494a314cc04e', 'strict-transport-security': 'max-age=31536000; includeSubDomains; preload', 'cf-cache-status': 'DYNAMIC', 'x-content-type-options': 'nosniff', 'server': 'cloudflare', 'cf-ray': '934571f3cdffc055-ICN', 'alt-svc': 'h3=\":443\"; ma=86400'})\n",
      "DEBUG:openai._base_client:request_id: req_90d6d4bdd1195826afb6494a314cc04e\n",
      "request_id: req_90d6d4bdd1195826afb6494a314cc04e\n",
      "DEBUG:httpcore.http11:receive_response_body.started request=<Request [b'POST']>\n",
      "receive_response_body.started request=<Request [b'POST']>\n",
      "DEBUG:httpcore.http11:receive_response_body.complete\n",
      "receive_response_body.complete\n",
      "DEBUG:httpcore.http11:response_closed.started\n",
      "response_closed.started\n",
      "DEBUG:httpcore.http11:response_closed.complete\n",
      "response_closed.complete\n",
      "「菓子類」が最も購入率が高く、国籍・地域によって異なるが、韓国、台湾、香港、中国の訪日外国人は特に「菓子類」をよく購入しています。また、「宝石・貴金属」は購入者単価が最も高い費目であり、台湾と香港の訪日外国人がこのカテゴリで高額な支出をしていることが示されています。\n"
     ]
    }
   ],
   "source": [
    "response = query_engine.query(\"お土産の購入状況を教えて\")\n",
    "# 言語モデルからの回答を表示\n",
    "print(response)"
   ]
  },
  {
   "cell_type": "code",
   "execution_count": 13,
   "metadata": {},
   "outputs": [],
   "source": [
    "# もとに戻す（ログを出力しない）\n",
    "logging.basicConfig(stream=sys.stdout, level=logging.WARNING)\n",
    "# ログハンドラー出力を除去\n",
    "while len(logging.getLogger().handlers) > 0:\n",
    "  logging.getLogger().removeHandler(logging.getLogger().handlers[0])"
   ]
  },
  {
   "attachments": {},
   "cell_type": "markdown",
   "metadata": {},
   "source": [
    "# ストレージに保存"
   ]
  },
  {
   "cell_type": "code",
   "execution_count": 14,
   "metadata": {},
   "outputs": [],
   "source": [
    "# ストレージに保存\n",
    "index.storage_context.persist(\"./storage02\")"
   ]
  },
  {
   "cell_type": "code",
   "execution_count": 15,
   "metadata": {},
   "outputs": [],
   "source": [
    "from llama_index.core import StorageContext, load_index_from_storage\n",
    "\n",
    "# ストレージコンテキストの作成\n",
    "storage_context = StorageContext.from_defaults(persist_dir=\"./storage02\")\n",
    "# Indexのロード\n",
    "index = load_index_from_storage(storage_context)"
   ]
  },
  {
   "cell_type": "code",
   "execution_count": 16,
   "metadata": {},
   "outputs": [],
   "source": [
    "# Query Engineの作成\n",
    "query_engine2 = index.as_query_engine(\n",
    "    similarity_top_k=3,\n",
    "    streaming=True,\n",
    "    text_qa_template=text_qa_template,\n",
    "    refine_template=refine_template,\n",
    ")"
   ]
  },
  {
   "cell_type": "code",
   "execution_count": 17,
   "metadata": {},
   "outputs": [
    {
     "name": "stdout",
     "output_type": "stream",
     "text": [
      "外国人観光客によるお土産の購入状況は様々ですが、菓子類が一般的に高い購入率を示しています。特に韓国、台湾、香港、中国からの観光客は菓子類をよく購入し、その他食料品や飲料、たばこなども人気があるようです。高額な費目では宝石や貴金属の購入者単価が高い傾向があります。\n"
     ]
    }
   ],
   "source": [
    "response = query_engine2.query(\"お土産の購入状況を教えて\")\n",
    "# 言語モデルからの回答を表示\n",
    "print(response)"
   ]
  },
  {
   "cell_type": "code",
   "execution_count": null,
   "metadata": {},
   "outputs": [],
   "source": []
  }
 ],
 "metadata": {
  "kernelspec": {
   "display_name": ".venv",
   "language": "python",
   "name": "python3"
  },
  "language_info": {
   "codemirror_mode": {
    "name": "ipython",
    "version": 3
   },
   "file_extension": ".py",
   "mimetype": "text/x-python",
   "name": "python",
   "nbconvert_exporter": "python",
   "pygments_lexer": "ipython3",
   "version": "3.11.9"
  },
  "orig_nbformat": 4
 },
 "nbformat": 4,
 "nbformat_minor": 2
}
