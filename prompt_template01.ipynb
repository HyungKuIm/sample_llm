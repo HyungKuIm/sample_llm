{
 "cells": [
  {
   "cell_type": "code",
   "execution_count": 1,
   "id": "9e418990",
   "metadata": {},
   "outputs": [],
   "source": [
    "# 필요한 모듈 임포트\n",
    "import os\n",
    "from dotenv import load_dotenv\n",
    "import httpx\n",
    "\n",
    "class CustomHTTPClient(httpx.Client):\n",
    "    def __init__(self, *args, **kwargs):\n",
    "        kwargs.pop(\"proxies\", None) # Remove the 'proxies' argument if present\n",
    "        super().__init__(*args, **kwargs)\n",
    "\n",
    "from openai import OpenAI\n",
    "\n",
    "#환경변수 취득\n",
    "load_dotenv()\n",
    "#OpenAI API 클라이언트 생성\n",
    "client = OpenAI(api_key=os.environ['API_KEY'], http_client=CustomHTTPClient())\n",
    "\n",
    "# 모델명\n",
    "model_name = \"gpt-3.5-turbo-0125\""
   ]
  },
  {
   "cell_type": "code",
   "execution_count": 10,
   "id": "6bc3a8cf",
   "metadata": {},
   "outputs": [],
   "source": [
    "# 学習データ\n",
    "traing_data = \"\"\"\n",
    "{\"prompt\": \"혼자옵서에\", \"completion\": \"어서오세요\"}\n",
    "{\"prompt\": \"고냉이\", \"completion\": \"고양이\"}\n",
    "{\"prompt\": \"꼬닥꼬닥\", \"completion\": \"천천히\"}\n",
    "\"\"\"\n",
    "\n",
    "# ユーザーからの質問\n",
    "question = \"고냉이 잘 있어?\"\n",
    "\n",
    "# プロンプトの設定\n",
    "prompt = f\"{traing_data}\\n위의 내용을 기반으로, 이하의 질문에 대답해줘줘\\n{question}\""
   ]
  },
  {
   "cell_type": "code",
   "execution_count": 13,
   "id": "0739cc85",
   "metadata": {},
   "outputs": [
    {
     "name": "stdout",
     "output_type": "stream",
     "text": [
      "고양이는 잘 있어요. 고냉이가 어딘가 잘못되었나요?\n"
     ]
    }
   ],
   "source": [
    "# APIへリクエスト\n",
    "response = client.chat.completions.create(\n",
    "    model=model_name,\n",
    "    messages=[\n",
    "        {\"role\": \"user\", \"content\": prompt},\n",
    "    ]\n",
    ")\n",
    "\n",
    "# 言語モデルからの回答を表示\n",
    "print(response.choices[0].message.content.strip())"
   ]
  }
 ],
 "metadata": {
  "kernelspec": {
   "display_name": ".venv",
   "language": "python",
   "name": "python3"
  },
  "language_info": {
   "codemirror_mode": {
    "name": "ipython",
    "version": 3
   },
   "file_extension": ".py",
   "mimetype": "text/x-python",
   "name": "python",
   "nbconvert_exporter": "python",
   "pygments_lexer": "ipython3",
   "version": "3.11.9"
  }
 },
 "nbformat": 4,
 "nbformat_minor": 5
}
