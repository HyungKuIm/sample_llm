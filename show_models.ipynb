{
 "cells": [
  {
   "cell_type": "code",
   "execution_count": 1,
   "metadata": {},
   "outputs": [],
   "source": [
    "# 필요한 모듈 임포트\n",
    "import os\n",
    "from dotenv import load_dotenv\n",
    "import httpx\n",
    "\n",
    "class CustomHTTPClient(httpx.Client):\n",
    "    def __init__(self, *args, **kwargs):\n",
    "        kwargs.pop(\"proxies\", None) # Remove the 'proxies' argument if present\n",
    "        # kwargs[\"timeout\"] = 60.0  # 타임아웃 설정 추가\n",
    "        super().__init__(*args, **kwargs)\n",
    "\n",
    "from openai import OpenAI\n",
    "\n",
    "#환경변수 취득\n",
    "load_dotenv()\n",
    "#OpenAI API 클라이언트 생성\n",
    "client = OpenAI(api_key=os.environ['API_KEY'], http_client=CustomHTTPClient())"
   ]
  },
  {
   "cell_type": "code",
   "execution_count": 2,
   "metadata": {},
   "outputs": [
    {
     "data": {
      "text/plain": [
       "['chatgpt-4o-latest',\n",
       " 'ft:gpt-3.5-turbo-1106:personal::BL0Jt9st:ckpt-step-80',\n",
       " 'ft:gpt-3.5-turbo-1106:personal::BL0Ju5gZ:ckpt-step-90',\n",
       " 'ft:gpt-3.5-turbo-1106:personal::BL0JuKrQ',\n",
       " 'ft:gpt-3.5-turbo-1106:personal::BL0KDDpF:ckpt-step-80',\n",
       " 'ft:gpt-3.5-turbo-1106:personal::BL0KEEow',\n",
       " 'ft:gpt-3.5-turbo-1106:personal::BL0KEfn5:ckpt-step-90',\n",
       " 'ft:gpt-4o-mini-2024-07-18:personal::BL2ctAHk:ckpt-step-80',\n",
       " 'ft:gpt-4o-mini-2024-07-18:personal::BL2ctKu5:ckpt-step-90',\n",
       " 'ft:gpt-4o-mini-2024-07-18:personal::BL2ctnYj',\n",
       " 'ft:gpt-4o-mini-2024-07-18:personal::BL2feO4f:ckpt-step-80',\n",
       " 'ft:gpt-4o-mini-2024-07-18:personal::BL2feoAY:ckpt-step-90',\n",
       " 'ft:gpt-4o-mini-2024-07-18:personal::BL2ffwq0',\n",
       " 'gpt-3.5-turbo',\n",
       " 'gpt-3.5-turbo-0125',\n",
       " 'gpt-3.5-turbo-1106',\n",
       " 'gpt-3.5-turbo-16k',\n",
       " 'gpt-3.5-turbo-instruct',\n",
       " 'gpt-3.5-turbo-instruct-0914',\n",
       " 'gpt-4',\n",
       " 'gpt-4-0125-preview',\n",
       " 'gpt-4-0613',\n",
       " 'gpt-4-1106-preview',\n",
       " 'gpt-4-turbo',\n",
       " 'gpt-4-turbo-2024-04-09',\n",
       " 'gpt-4-turbo-preview',\n",
       " 'gpt-4.1',\n",
       " 'gpt-4.1-2025-04-14',\n",
       " 'gpt-4.1-mini',\n",
       " 'gpt-4.1-mini-2025-04-14',\n",
       " 'gpt-4.1-nano',\n",
       " 'gpt-4.1-nano-2025-04-14',\n",
       " 'gpt-4.5-preview',\n",
       " 'gpt-4.5-preview-2025-02-27',\n",
       " 'gpt-4o',\n",
       " 'gpt-4o-2024-05-13',\n",
       " 'gpt-4o-2024-08-06',\n",
       " 'gpt-4o-2024-11-20',\n",
       " 'gpt-4o-audio-preview',\n",
       " 'gpt-4o-audio-preview-2024-10-01',\n",
       " 'gpt-4o-audio-preview-2024-12-17',\n",
       " 'gpt-4o-mini',\n",
       " 'gpt-4o-mini-2024-07-18',\n",
       " 'gpt-4o-mini-audio-preview',\n",
       " 'gpt-4o-mini-audio-preview-2024-12-17',\n",
       " 'gpt-4o-mini-realtime-preview',\n",
       " 'gpt-4o-mini-realtime-preview-2024-12-17',\n",
       " 'gpt-4o-mini-search-preview',\n",
       " 'gpt-4o-mini-search-preview-2025-03-11',\n",
       " 'gpt-4o-mini-transcribe',\n",
       " 'gpt-4o-mini-tts',\n",
       " 'gpt-4o-realtime-preview',\n",
       " 'gpt-4o-realtime-preview-2024-10-01',\n",
       " 'gpt-4o-realtime-preview-2024-12-17',\n",
       " 'gpt-4o-search-preview',\n",
       " 'gpt-4o-search-preview-2025-03-11',\n",
       " 'gpt-4o-transcribe']"
      ]
     },
     "execution_count": 2,
     "metadata": {},
     "output_type": "execute_result"
    }
   ],
   "source": [
    "# 모델 목록 취득\n",
    "models = client.models.list()\n",
    "\n",
    "#GpT 모델의 id를 취득하여 정렬하여 표시\n",
    "model_list = [m.id for m in models if \"gpt\" in m.id or \"text-davinci\" in m.id]\n",
    "model_list.sort()\n",
    "model_list"
   ]
  }
 ],
 "metadata": {
  "kernelspec": {
   "display_name": ".venv",
   "language": "python",
   "name": "python3"
  },
  "language_info": {
   "codemirror_mode": {
    "name": "ipython",
    "version": 3
   },
   "file_extension": ".py",
   "mimetype": "text/x-python",
   "name": "python",
   "nbconvert_exporter": "python",
   "pygments_lexer": "ipython3",
   "version": "3.11.9"
  }
 },
 "nbformat": 4,
 "nbformat_minor": 2
}
