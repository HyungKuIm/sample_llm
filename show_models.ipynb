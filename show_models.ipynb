{
 "cells": [
  {
   "cell_type": "code",
   "execution_count": 4,
   "metadata": {},
   "outputs": [],
   "source": [
    "# 필요한 모듈 임포트\n",
    "import os\n",
    "from dotenv import load_dotenv\n",
    "import httpx\n",
    "\n",
    "class CustomHTTPClient(httpx.Client):\n",
    "    def __init__(self, *args, **kwargs):\n",
    "        kwargs.pop(\"proxies\", None) # Remove the 'proxies' argument if present\n",
    "        super().__init__(*args, **kwargs)\n",
    "\n",
    "from openai import OpenAI\n",
    "\n",
    "#환경변수 취득\n",
    "load_dotenv()\n",
    "#OpenAI API 클라이언트 생성\n",
    "client = OpenAI(api_key=os.environ['API_KEY'], http_client=CustomHTTPClient())"
   ]
  }
 ],
 "metadata": {
  "kernelspec": {
   "display_name": ".venv",
   "language": "python",
   "name": "python3"
  },
  "language_info": {
   "codemirror_mode": {
    "name": "ipython",
    "version": 3
   },
   "file_extension": ".py",
   "mimetype": "text/x-python",
   "name": "python",
   "nbconvert_exporter": "python",
   "pygments_lexer": "ipython3",
   "version": "3.11.9"
  }
 },
 "nbformat": 4,
 "nbformat_minor": 2
}
