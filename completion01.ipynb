{
 "cells": [
  {
   "cell_type": "code",
   "execution_count": 6,
   "metadata": {},
   "outputs": [],
   "source": [
    "# 필요한 모듈 임포트\n",
    "import os\n",
    "from dotenv import load_dotenv\n",
    "import httpx\n",
    "\n",
    "class CustomHTTPClient(httpx.Client):\n",
    "    def __init__(self, *args, **kwargs):\n",
    "        kwargs.pop(\"proxies\", None) # Remove the 'proxies' argument if present\n",
    "        super().__init__(*args, **kwargs)\n",
    "\n",
    "from openai import OpenAI\n",
    "\n",
    "#환경변수 취득\n",
    "load_dotenv()\n",
    "#OpenAI API 클라이언트 생성\n",
    "client = OpenAI(api_key=os.environ['API_KEY'], http_client=CustomHTTPClient())\n",
    "\n",
    "# 모델명\n",
    "model_name = \"gpt-3.5-turbo-instruct\""
   ]
  },
  {
   "cell_type": "code",
   "execution_count": 13,
   "metadata": {},
   "outputs": [
    {
     "name": "stdout",
     "output_type": "stream",
     "text": [
      "--------------------\n",
      "1. 데이터의 크기와 다양성: 언어 모델을 학습시키기 위해서는 대규모의 다양한 데이터가 필요하다. 따\n",
      "--------------------\n",
      "1. 데이터의 품질: 언어 모델의 성능은 데이터의 품질에 크게 영향을 받는다. 따라서 데이터를 수\n",
      "CompletionUsage(completion_tokens=200, prompt_tokens=20, total_tokens=220, completion_tokens_details=None, prompt_tokens_details=None)\n"
     ]
    }
   ],
   "source": [
    "# 프롬프트 설정\n",
    "prompt = \"언어 모델을 사용할 때 포인트는 뭘까?\"\n",
    "# suffix = \"라고 생각합니다.\"\n",
    "\n",
    "# API 리퀘스트\n",
    "response = client.completions.create(\n",
    "    model = model_name, \n",
    "    prompt = prompt,\n",
    "    max_tokens = 50,\n",
    "    n = 2,\n",
    "    best_of=4\n",
    ")\n",
    "\n",
    "# 결과 표시\n",
    "for choice in response.choices:\n",
    "    print(\"-\" * 20)\n",
    "    print(choice.text.strip())\n",
    "\n",
    "print(response.usage)"
   ]
  },
  {
   "cell_type": "code",
   "execution_count": 36,
   "metadata": {},
   "outputs": [
    {
     "name": "stdout",
     "output_type": "stream",
     "text": [
      "요!\n",
      "1. 고구마칩: 고구마는 항산화 작용이 강하고 비타민 A, C, E가 풍부하여 면역력 증강에 도움이 됩니다. 또한 건강한 치즈와 함께 섭취하면 단백질과 칼슘\n"
     ]
    }
   ],
   "source": [
    "# 프롬프트 설정\n",
    "prompt = \"폐암 환자에게 도움이 되는 간식을 알고 싶어\"\n",
    "\n",
    "# API 리퀘스트\n",
    "response = client.completions.create(\n",
    "    model = model_name, \n",
    "    prompt = prompt,\n",
    "    max_tokens = 100,\n",
    "    logprobs = 3\n",
    ")\n",
    "\n",
    "print(response.choices[0].text.strip())"
   ]
  },
  {
   "cell_type": "code",
   "execution_count": 25,
   "metadata": {},
   "outputs": [],
   "source": [
    "import tiktoken\n",
    "from tiktoken.core import Encoding\n",
    "\n",
    "# OpenAI APIの特定のモデルに対応するトークナイザーを取得\n",
    "encoding: Encoding = tiktoken.encoding_for_model(model_name)"
   ]
  },
  {
   "cell_type": "code",
   "execution_count": 26,
   "metadata": {},
   "outputs": [
    {
     "name": "stdout",
     "output_type": "stream",
     "text": [
      "[ 해 ] [ 요 ] [  ] [  ] [ 1 ] [ . ] [ bytes: \\xea\\xb3 ] [ bytes:\\xa0 ] [ 구 ] [ bytes:\\xeb\\xa7 ] [ bytes:\\x88 ] [ bytes: \\xec\\x8a ] [ bytes:\\xac ] [ 라 ] [ 이 ] [ 스 ] [  - ] [ bytes: \\xea\\xb3 ] [ bytes:\\xa0 ] [ 구 ] [ bytes:\\xeb\\xa7 ] [ bytes:\\x88 ] [ 는 ] [  비 ] [ bytes:\\xed\\x83 ] [ bytes:\\x80 ] [ bytes:\\xeb\\xaf ] [ bytes:\\xbc ] [ A ] [ , ] [ bytes: \\xec\\xb9 ] [ bytes:\\xbc ] [ bytes:\\xeb\\xa5 ] [ bytes:\\xa8 ] [ , ] [ bytes: \\xec\\x8b ] [ bytes:\\x9d ] [ 이 ] [ bytes:\\xec\\x84 ] [ bytes:\\xac ] [ bytes:\\xec\\x9c ] [ bytes:\\xa0 ] [  등 ] [ 이 ] [ bytes: \\xed ] [ bytes:\\x92 ] [ bytes:\\x8d ] [ 부 ] [ 하 ] [ bytes:\\xeb\\xa9 ] [ bytes:\\xb0 ] [ bytes: \\xed\\x98 ] [ bytes:\\x88 ] [ bytes:\\xec\\x95 ] [ bytes:\\xa1 ] [ bytes:\\xec ] [ bytes:\\x88 ] [ bytes:\\x9c ] [ 환 ] [ 을 ] [ bytes: \\xeb\\x8f ] [ bytes:\\x95 ] [ 고 ] [ bytes: \\xeb\\xa9 ] [ bytes:\\xb4 ] [ bytes:\\xec\\x97 ] [ bytes:\\xad ] [ 력 ] [ 을 ] [ bytes: \\xea\\xb0 ] [ bytes:\\x95 ] [ 화 ] [ 해 ] [ bytes:\\xec\\xa4 ] [ bytes:\\x8d ] [ 니다 ] [ . ] [ 2 ] [ . ] [ bytes: \\xeb ] [ bytes:\\x85 ] [ bytes:\\xb9 ] [ bytes:\\xec\\xb0 ] [ bytes:\\xa8 ] [  - ] [ bytes: \\xeb ] [ bytes:\\x85 ] [ bytes:\\xb9 ] [ bytes:\\xec\\xb0 ] [ bytes:\\xa8 ] [ 에 ] [ 는 ] [ bytes: \\xed\\x95 ] [ bytes:\\xad ] [ 산 ] [ 화 ] [  작 ] [ 용 ] [ 이 ] [  있는 ] "
     ]
    }
   ],
   "source": [
    "# 回答をトークンごとに確認\n",
    "for token in response.choices[0].logprobs.tokens:\n",
    "    print(\"[\", token.replace(\"\\n\",\"\"), \"]\", end=\" \")"
   ]
  },
  {
   "cell_type": "code",
   "execution_count": 27,
   "metadata": {},
   "outputs": [
    {
     "data": {
      "text/plain": [
       "[-3.303797, -0.1506058, -2.3085585, -0.9140037, -1.1073347]"
      ]
     },
     "execution_count": 27,
     "metadata": {},
     "output_type": "execute_result"
    }
   ],
   "source": [
    "# 選択されたトークンの確率を表示\n",
    "response.choices[0].logprobs.token_logprobs[:5]"
   ]
  },
  {
   "cell_type": "code",
   "execution_count": 28,
   "metadata": {},
   "outputs": [
    {
     "data": {
      "text/plain": [
       "[{'요': -1.1779463, '서': -1.4530146, '합니다': -2.7171843},\n",
       " {'요': -0.1506058, '\\n\\n': -3.12717, '\\n': -4.141071},\n",
       " {'\\n\\n': -1.0303297, '.': -1.9529123, '.\\n\\n': -2.161376},\n",
       " {'\\n': -0.9140037, '1': -1.2380717, 'bytes:\\\\xec\\\\x95': -2.2539656},\n",
       " {'간': -1.0186335, '1': -1.1073347, 'bytes:\\\\xec\\\\x95': -2.1882157}]"
      ]
     },
     "execution_count": 28,
     "metadata": {},
     "output_type": "execute_result"
    }
   ],
   "source": [
    "# トークン上位logprobs個の確率を表示\n",
    "response.choices[0].logprobs.top_logprobs[:5]"
   ]
  }
 ],
 "metadata": {
  "kernelspec": {
   "display_name": ".venv",
   "language": "python",
   "name": "python3"
  },
  "language_info": {
   "codemirror_mode": {
    "name": "ipython",
    "version": 3
   },
   "file_extension": ".py",
   "mimetype": "text/x-python",
   "name": "python",
   "nbconvert_exporter": "python",
   "pygments_lexer": "ipython3",
   "version": "3.11.9"
  }
 },
 "nbformat": 4,
 "nbformat_minor": 2
}
