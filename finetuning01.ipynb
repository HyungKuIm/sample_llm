{
 "cells": [
  {
   "cell_type": "code",
   "execution_count": 21,
   "id": "4e7948bb",
   "metadata": {},
   "outputs": [],
   "source": [
    "import os\n",
    "from dotenv import load_dotenv\n",
    "from openai import OpenAI\n",
    "from googleapiclient.discovery import build\n",
    "\n",
    "\n",
    "import httpx\n",
    "\n",
    "class CustomHTTPClient(httpx.Client):\n",
    "    def __init__(self, *args, **kwargs):\n",
    "        kwargs.pop(\"proxies\", None) # Remove the 'proxies' argument if present\n",
    "        super().__init__(*args, **kwargs)\n",
    "\n",
    "load_dotenv()\n",
    "client = OpenAI(api_key=os.environ['API_KEY'], http_client=CustomHTTPClient())\n",
    "model_name = \"gpt-4o-mini-2024-07-18\""
   ]
  },
  {
   "cell_type": "code",
   "execution_count": 22,
   "id": "f495fbc7",
   "metadata": {},
   "outputs": [],
   "source": [
    "import json\n",
    "import tiktoken # for token counting\n",
    "import numpy as np\n",
    "from collections import defaultdict"
   ]
  },
  {
   "cell_type": "code",
   "execution_count": 23,
   "id": "7324c85c",
   "metadata": {},
   "outputs": [
    {
     "name": "stdout",
     "output_type": "stream",
     "text": [
      "Num examples: 10\n",
      "First example:\n",
      "{'role': 'user', 'content': '폭삭 속았수다'}\n",
      "{'role': 'assistant', 'content': '정말 수고많으셨습니다'}\n"
     ]
    }
   ],
   "source": [
    "data_path = \"training.jsonl\"\n",
    "\n",
    "# Load the dataset\n",
    "with open(data_path, 'r', encoding='utf-8') as f:\n",
    "    dataset = [json.loads(line) for line in f]\n",
    "\n",
    "# Initial dataset stats\n",
    "print(\"Num examples:\", len(dataset))\n",
    "print(\"First example:\")\n",
    "for message in dataset[0][\"messages\"]:\n",
    "    print(message)"
   ]
  },
  {
   "cell_type": "code",
   "execution_count": 24,
   "id": "b640f3d1",
   "metadata": {},
   "outputs": [
    {
     "name": "stdout",
     "output_type": "stream",
     "text": [
      "No errors found\n"
     ]
    }
   ],
   "source": [
    "# Format error checks\n",
    "format_errors = defaultdict(int)\n",
    "\n",
    "for ex in dataset:\n",
    "    if not isinstance(ex, dict):\n",
    "        format_errors[\"data_type\"] += 1\n",
    "        continue\n",
    "        \n",
    "    messages = ex.get(\"messages\", None)\n",
    "    if not messages:\n",
    "        format_errors[\"missing_messages_list\"] += 1\n",
    "        continue\n",
    "        \n",
    "    for message in messages:\n",
    "        if \"role\" not in message or \"content\" not in message:\n",
    "            format_errors[\"message_missing_key\"] += 1\n",
    "        \n",
    "        if any(k not in (\"role\", \"content\", \"name\", \"function_call\") for k in message):\n",
    "            format_errors[\"message_unrecognized_key\"] += 1\n",
    "        \n",
    "        if message.get(\"role\", None) not in (\"system\", \"user\", \"assistant\", \"function\"):\n",
    "            format_errors[\"unrecognized_role\"] += 1\n",
    "            \n",
    "        content = message.get(\"content\", None)\n",
    "        function_call = message.get(\"function_call\", None)\n",
    "        \n",
    "        if (not content and not function_call) or not isinstance(content, str):\n",
    "            format_errors[\"missing_content\"] += 1\n",
    "    \n",
    "    if not any(message.get(\"role\", None) == \"assistant\" for message in messages):\n",
    "        format_errors[\"example_missing_assistant_message\"] += 1\n",
    "\n",
    "if format_errors:\n",
    "    print(\"Found errors:\")\n",
    "    for k, v in format_errors.items():\n",
    "        print(f\"{k}: {v}\")\n",
    "else:\n",
    "    print(\"No errors found\")"
   ]
  },
  {
   "cell_type": "code",
   "execution_count": 26,
   "id": "1b4478bc",
   "metadata": {},
   "outputs": [],
   "source": [
    "# 学習データのアップロード\n",
    "uploaded_file = client.files.create(\n",
    "  file=open(\"training.jsonl\", \"rb\"),\n",
    "  purpose=\"fine-tune\"\n",
    ")"
   ]
  },
  {
   "cell_type": "code",
   "execution_count": 28,
   "id": "d4e80c56",
   "metadata": {},
   "outputs": [
    {
     "name": "stdout",
     "output_type": "stream",
     "text": [
      "🚀 파인튜닝 Job 생성 중...\n",
      "✅ Job 생성됨! Job ID: ftjob-8k3iLpUtpbir34cFEECi04uz\n",
      "⏳ 파인튜닝 진행 상황 확인 중...\n",
      "🔄 현재 상태: validating_files\n",
      "🔄 현재 상태: validating_files\n",
      "🔄 현재 상태: validating_files\n",
      "🔄 현재 상태: validating_files\n",
      "🔄 현재 상태: running\n",
      "🔄 현재 상태: running\n",
      "🔄 현재 상태: running\n",
      "🔄 현재 상태: running\n",
      "🔄 현재 상태: running\n",
      "🔄 현재 상태: running\n",
      "🔄 현재 상태: running\n",
      "🔄 현재 상태: running\n",
      "🔄 현재 상태: running\n",
      "🔄 현재 상태: running\n",
      "🔄 현재 상태: running\n",
      "🔄 현재 상태: running\n",
      "🔄 현재 상태: running\n",
      "🔄 현재 상태: running\n",
      "🔄 현재 상태: running\n",
      "🔄 현재 상태: running\n",
      "🔄 현재 상태: running\n",
      "🔄 현재 상태: running\n",
      "🔄 현재 상태: running\n",
      "🔄 현재 상태: running\n",
      "🔄 현재 상태: running\n",
      "🔄 현재 상태: running\n",
      "🔄 현재 상태: running\n",
      "🔄 현재 상태: running\n",
      "🔄 현재 상태: running\n",
      "🔄 현재 상태: running\n",
      "🔄 현재 상태: running\n",
      "🔄 현재 상태: running\n",
      "🔄 현재 상태: running\n",
      "🔄 현재 상태: succeeded\n"
     ]
    }
   ],
   "source": [
    "import time\n",
    "\n",
    "# 5. 파인튜닝 job 생성\n",
    "print(\"🚀 파인튜닝 Job 생성 중...\")\n",
    "fine_tune_job = client.fine_tuning.jobs.create(\n",
    "    training_file=uploaded_file.id,\n",
    "    model=model_name\n",
    ")\n",
    "job_id = fine_tune_job.id\n",
    "print(\"✅ Job 생성됨! Job ID:\", job_id)\n",
    "\n",
    "# 6. Job 상태 모니터링\n",
    "print(\"⏳ 파인튜닝 진행 상황 확인 중...\")\n",
    "while True:\n",
    "    job_status = client.fine_tuning.jobs.retrieve(job_id)\n",
    "    status = job_status.status\n",
    "    print(f\"🔄 현재 상태: {status}\")\n",
    "    if status in [\"succeeded\", \"failed\", \"cancelled\"]:\n",
    "        break\n",
    "    time.sleep(10)  # 10초 간격으로 확인"
   ]
  },
  {
   "cell_type": "code",
   "execution_count": 29,
   "id": "09d5cab4",
   "metadata": {},
   "outputs": [
    {
     "data": {
      "text/plain": [
       "FineTuningJob(id='ftjob-8k3iLpUtpbir34cFEECi04uz', created_at=1744354356, error=Error(code=None, message=None, param=None), fine_tuned_model='ft:gpt-4o-mini-2024-07-18:personal::BL2ctnYj', finished_at=1744354681, hyperparameters=Hyperparameters(batch_size=1, learning_rate_multiplier=1.8, n_epochs=10), model='gpt-4o-mini-2024-07-18', object='fine_tuning.job', organization_id='org-BEfrLC4bCyHxjR7Ri25802FM', result_files=['file-CstdjLXrMbb2B71u25Hzrq'], seed=2135810063, status='succeeded', trained_tokens=1720, training_file='file-NujbkYXpVEyNKRfXt6HRPh', validation_file=None, estimated_finish=None, integrations=[], metadata=None, method=Method(dpo=None, supervised=MethodSupervised(hyperparameters=MethodSupervisedHyperparameters(batch_size=1, learning_rate_multiplier=1.8, n_epochs=10)), type='supervised'), user_provided_suffix=None)"
      ]
     },
     "execution_count": 29,
     "metadata": {},
     "output_type": "execute_result"
    }
   ],
   "source": [
    "client.fine_tuning.jobs.retrieve(job_id)"
   ]
  },
  {
   "cell_type": "code",
   "execution_count": 31,
   "id": "8ddbf99e",
   "metadata": {},
   "outputs": [
    {
     "name": "stdout",
     "output_type": "stream",
     "text": [
      "제주 방언 '폭삭 속았수다'는 \"정말 수고많으셨습니다\"라는 의미입니다.\n"
     ]
    }
   ],
   "source": [
    "# プロンプトの設定\n",
    "content = \"제주 방언 '폭삭 속았수다'의 의미에 대해 알고 싶어\"\n",
    "\n",
    "# APIへリクエスト\n",
    "response = client.chat.completions.create(\n",
    "  model=\"ft:gpt-4o-mini-2024-07-18:personal::BL2ctnYj\",\n",
    "  messages=[\n",
    "    {\"role\": \"user\", \"content\": content}\n",
    "  ]\n",
    ")\n",
    "\n",
    "# 言語モデルからの回答を表示\n",
    "print(response.choices[0].message.content.strip())"
   ]
  }
 ],
 "metadata": {
  "kernelspec": {
   "display_name": ".venv",
   "language": "python",
   "name": "python3"
  },
  "language_info": {
   "codemirror_mode": {
    "name": "ipython",
    "version": 3
   },
   "file_extension": ".py",
   "mimetype": "text/x-python",
   "name": "python",
   "nbconvert_exporter": "python",
   "pygments_lexer": "ipython3",
   "version": "3.11.9"
  }
 },
 "nbformat": 4,
 "nbformat_minor": 5
}
