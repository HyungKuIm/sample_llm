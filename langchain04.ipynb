{
 "cells": [
  {
   "cell_type": "markdown",
   "metadata": {},
   "source": [
    "# Agent\n",
    "\n",
    "# 準備"
   ]
  },
  {
   "cell_type": "code",
   "execution_count": 3,
   "metadata": {},
   "outputs": [],
   "source": [
    "# 必要なモジュールをインポート\n",
    "import os\n",
    "from dotenv import load_dotenv\n",
    "\n",
    "# 環境変数の読み込み\n",
    "load_dotenv()\n",
    "os.environ[\"OPENAI_API_KEY\"] = os.environ[\"API_KEY\"]"
   ]
  },
  {
   "cell_type": "markdown",
   "metadata": {},
   "source": [
    "# Google検索Agent"
   ]
  },
  {
   "cell_type": "code",
   "execution_count": 1,
   "metadata": {},
   "outputs": [],
   "source": [
    "from langchain.agents import Tool\n",
    "from langchain_google_community import GoogleSearchAPIWrapper\n",
    "\n",
    "search = GoogleSearchAPIWrapper()\n",
    "\n",
    "tools = [\n",
    "    Tool(\n",
    "        name = \"GoogleSearch\", # 名前は半角英数字のみ\n",
    "        func=search.run,\n",
    "        description=\"Search Google for recent results.\"\n",
    "    )\n",
    "]"
   ]
  },
  {
   "cell_type": "code",
   "execution_count": 4,
   "metadata": {},
   "outputs": [],
   "source": [
    "from langchain_openai import ChatOpenAI\n",
    "\n",
    "llm = ChatOpenAI(model=\"gpt-3.5-turbo-0125\", temperature=1.2)"
   ]
  },
  {
   "cell_type": "code",
   "execution_count": 5,
   "metadata": {},
   "outputs": [
    {
     "data": {
      "text/plain": [
       "[SystemMessagePromptTemplate(prompt=PromptTemplate(input_variables=[], template='You are a helpful assistant')),\n",
       " MessagesPlaceholder(variable_name='chat_history', optional=True),\n",
       " HumanMessagePromptTemplate(prompt=PromptTemplate(input_variables=['input'], template='{input}')),\n",
       " MessagesPlaceholder(variable_name='agent_scratchpad')]"
      ]
     },
     "execution_count": 5,
     "metadata": {},
     "output_type": "execute_result"
    }
   ],
   "source": [
    "from langchain import hub\n",
    "\n",
    "prompt = hub.pull(\"hwchase17/openai-functions-agent\")\n",
    "prompt.messages"
   ]
  },
  {
   "cell_type": "code",
   "execution_count": 6,
   "metadata": {},
   "outputs": [],
   "source": [
    "from langchain.agents import create_openai_functions_agent\n",
    "\n",
    "agent = create_openai_functions_agent(llm, tools, prompt)"
   ]
  },
  {
   "cell_type": "code",
   "execution_count": 7,
   "metadata": {},
   "outputs": [],
   "source": [
    "from langchain.agents import AgentExecutor\n",
    "\n",
    "agent_executor = AgentExecutor(agent=agent, tools=tools, verbose=True)"
   ]
  },
  {
   "cell_type": "code",
   "execution_count": 9,
   "metadata": {},
   "outputs": [
    {
     "name": "stdout",
     "output_type": "stream",
     "text": [
      "\n",
      "\n",
      "\u001b[1m> Entering new AgentExecutor chain...\u001b[0m\n",
      "\u001b[32;1m\u001b[1;3m\n",
      "Invoking: `GoogleSearch` with `IMF South Korea GDP growth rate 2025`\n",
      "\n",
      "\n",
      "\u001b[0m\u001b[36;1m\u001b[1;3m15 indicator s , 1980 - 2029. Collapse all ... Real GDP growth ... Annual percent change ... 2.2 ... Created with Highcharts 6.1.4 ... 2025 ... GDP, current prices. Feb 5, 2025 ... Sources: Korean authorities; and IMF staff estimates and projections. 1/ Contribution to GDP growth. 2/ Excludes gold. ©International Monetary ... 2025 Projected Real GDP (% Change) : 2.0* · Country Population: 51.683 million · Date of Membership: August 26, 1955 · Article IV/Country Report: February 7, 2025 ... It has the 4th largest economy in Asia and the 12th largest in the world as of 2025. South Korea is notable for its rapid economic development from an ... Korea, Dem. People's Rep. of no data. Korea, Republic of 2.2. Kosovo 4. Kuwait 3.3. Kyrgyz Republic 5. Lao P.D.R. 3.5. Latvia 2.3. Lebanon no data. Lesotho 2.3. Oct 25, 2024 ... The International Monetary Fund (IMF) estimates South Korea's per capita gross domestic product (GDP) will reach $36,132 this year, ... Korea, Republic of 1.95 thousand. Kosovo 11.84. Kuwait 161.95 ... Real GDP growth. Annual percent change. Emerging market and developing economies. ©IMF, 2024. Nov 16, 2023 ... Sources: Ministry of Economy and Finance; and IMF staff estimates and projections. 1/ Overall balance is equal to net lending/borrowing ... Feb 6, 2025 ... Real GDP growth is estimated to have reached 2.2 percent in 2024, supported by strong exports despite relatively weak domestic demand. As ... added ratio and real GDP per capita growth rate for other countries. ... much smaller role for its economy than in Korea (right text chart) and Czech Republic, ...\u001b[0m\u001b[32;1m\u001b[1;3mIMF가 대한민국의 2025년 경제 성장률을 2.0%로 예상하고 있습니다.\u001b[0m\n",
      "\n",
      "\u001b[1m> Finished chain.\u001b[0m\n"
     ]
    },
    {
     "data": {
      "text/plain": [
       "{'input': 'IMF가 밝힌 대한민국의 2025년 경제 성장율은?',\n",
       " 'output': 'IMF가 대한민국의 2025년 경제 성장률을 2.0%로 예상하고 있습니다.'}"
      ]
     },
     "execution_count": 9,
     "metadata": {},
     "output_type": "execute_result"
    }
   ],
   "source": [
    "agent_executor.invoke({\"input\": \"IMF가 밝힌 대한민국의 2025년 경제 성장율은?\"})"
   ]
  },
  {
   "cell_type": "markdown",
   "metadata": {},
   "source": [
    "# 対話型Google検索Agent\n",
    "\n",
    "https://python.langchain.com/docs/modules/memory/agent_with_memory"
   ]
  },
  {
   "cell_type": "code",
   "execution_count": 10,
   "metadata": {},
   "outputs": [],
   "source": [
    "from langchain.agents import AgentExecutor, Tool, ZeroShotAgent\n",
    "from langchain.chains import LLMChain\n",
    "from langchain.memory import ConversationBufferMemory\n",
    "from langchain_google_community import GoogleSearchAPIWrapper\n",
    "from langchain_openai import ChatOpenAI"
   ]
  },
  {
   "cell_type": "code",
   "execution_count": 11,
   "metadata": {},
   "outputs": [],
   "source": [
    "search = GoogleSearchAPIWrapper()\n",
    "tools = [\n",
    "    Tool(\n",
    "        name=\"Search\",\n",
    "        func=search.run,\n",
    "        description=\"現在の出来事に関する質問に答える必要がある場合に便利です\",\n",
    "    )\n",
    "]"
   ]
  },
  {
   "cell_type": "code",
   "execution_count": 12,
   "metadata": {},
   "outputs": [],
   "source": [
    "prefix = \"\"\"あなたは日本語で回答します。あなたは人間と会話し、次の質問にできる限り答えてください。次のツールにアクセスできます:\"\"\"\n",
    "\n",
    "suffix = \"\"\"開始！\"\n",
    "\n",
    "{chat_history}\n",
    "Question: {input}\n",
    "{agent_scratchpad}\"\"\"\n",
    "\n",
    "prompt = ZeroShotAgent.create_prompt(\n",
    "    tools,\n",
    "    prefix=prefix,\n",
    "    suffix=suffix,\n",
    "    input_variables=[\"input\", \"chat_history\", \"agent_scratchpad\"],\n",
    ")\n",
    "memory = ConversationBufferMemory(memory_key=\"chat_history\")"
   ]
  },
  {
   "cell_type": "code",
   "execution_count": 13,
   "metadata": {},
   "outputs": [
    {
     "name": "stderr",
     "output_type": "stream",
     "text": [
      "d:\\llm\\sample_llm\\.venv\\Lib\\site-packages\\langchain_core\\_api\\deprecation.py:119: LangChainDeprecationWarning: The class `ZeroShotAgent` was deprecated in LangChain 0.1.0 and will be removed in 0.2.0. Use create_react_agent instead.\n",
      "  warn_deprecated(\n"
     ]
    }
   ],
   "source": [
    "llm_chain = LLMChain(llm=ChatOpenAI(model=\"gpt-3.5-turbo-0125\", temperature=1.2), prompt=prompt)\n",
    "agent = ZeroShotAgent(llm_chain=llm_chain, tools=tools, verbose=True)\n",
    "agent_chain = AgentExecutor.from_agent_and_tools(\n",
    "    agent=agent, tools=tools, verbose=True, memory=memory\n",
    ")"
   ]
  },
  {
   "cell_type": "code",
   "execution_count": 14,
   "metadata": {},
   "outputs": [
    {
     "name": "stdout",
     "output_type": "stream",
     "text": [
      "\n",
      "\n",
      "\u001b[1m> Entering new AgentExecutor chain...\u001b[0m\n",
      "\u001b[32;1m\u001b[1;3mThought: I should use the Search tool to find the current population of Japan\n",
      "Action: Search\n",
      "Action Input: \"日本の人口 現在\"\u001b[0m\n",
      "Observation: \u001b[36;1m\u001b[1;3m各月1日現在の日本の人口について、最新の推計結果を掲載しています。 Jul 24, 2024 ... 【NHK】2024年1月1日現在の日本の総人口は1億2488万人余りで、前の年よりおよそ53万人減りました。日本人の人口が15年連… Apr 12, 2024 ... 総人口は1億2435万2千人で、前年に比べ59万5千人（-0.48％）の減少となり、13年連続で減少しています。 · 日本人人口は1億2119万3千人で、前年に比べ83万7千人 ... 日本の人口は、令和2年10月1日に行った 国勢 ( こくせい ) 調査 ( ちょうさ ) の結果によると、約1億2614万人です。いまから約400年前の江戸時代の初め（1600年ころ）は約 ... Apr 15, 2014 ... 総人口は1億2729万8千人で，前年に比べ21万7千人（0.17％）の減少と減少幅は縮小したものの，3年連続で大きく減少しています。 日本人人口は1億2570万4千人で， ... ※ 将来推計人口は、国立社会保障・人口問題研究所「日本の市区町村別将来推計人口（平成20年12月推計）」による。 ※ （ ）内の数値は、高齢化率。 ※ 大都市部は、埼玉県、千葉 ... 人口の推移、人口構造の変化. 日本の人口は近年減少局面を迎えており、2070年には総人口が9,000万人を割り込み、高齢化率は39％の水準になると推計されています。 · 平均寿命 ... Jan 1, 2024 ... 住民基本台帳に基づく人口、人口動態及び世帯数（令和6年1月1日現在） ... 【日本人住民】令和6年住民基本台帳人口・世帯数、令和5年人口動態（市区 ... d. 政治が良い。 ○だから、日本人は今も充分に健康。薬や医者に頼らず、. バランス良く食べ、ちゃんと寝て、体を使えばOK。 ○医師の人数が、経済先進国だと国民数百 ... 我が国の総人口は、令和5年10月1日現在、 ... 2023年は総務省. 「人口推計」（令和5年10月1日現在（確定値））、2025年以降は国立社会保障・人口問題研究所「日本の将来推計人口（ ...\u001b[0m\n",
      "Thought:\u001b[32;1m\u001b[1;3m情報を見ると、現在の日本の人口は約1億2614万人です。\n",
      "Final Answer: 現在の日本の人口は約1億2614万人です。\u001b[0m\n",
      "\n",
      "\u001b[1m> Finished chain.\u001b[0m\n"
     ]
    },
    {
     "data": {
      "text/plain": [
       "{'input': '日本の人口は何人ですか？',\n",
       " 'chat_history': '',\n",
       " 'output': '現在の日本の人口は約1億2614万人です。'}"
      ]
     },
     "execution_count": 14,
     "metadata": {},
     "output_type": "execute_result"
    }
   ],
   "source": [
    "agent_chain.invoke({\"input\":\"日本の人口は何人ですか？\"})"
   ]
  },
  {
   "cell_type": "code",
   "execution_count": 15,
   "metadata": {},
   "outputs": [
    {
     "name": "stdout",
     "output_type": "stream",
     "text": [
      "\n",
      "\n",
      "\u001b[1m> Entering new AgentExecutor chain...\u001b[0m\n",
      "\u001b[32;1m\u001b[1;3mThought: I should search for the national anthem of Japan.\n",
      "Action: Search\n",
      "Action Input: National anthem of Japan\u001b[0m\n",
      "Observation: \u001b[36;1m\u001b[1;3m\"Kimigayo\" (君が代) is the national anthem of Japan. The lyrics are from a waka poem written by an unnamed author in the Heian period (794–1185), and the ... May 8, 2010 ... \"Kimigayo\" (君が代?) is Japan's national anthem. It is also one of the world's shortest national anthems in current use, with a length of 11 ... The Rising Sun Flag and \"Kimi Ga Yo\" are respectively the national flag and anthem of Japan. This was formalized in 1999 with the Law regarding the National ... Jul 26, 2023 ... 'Kimigayo' is the country's single-verse national anthem, based on the words of a classical Japanese waka poem written by an unknown author during Japan's ... Mar 20, 2025 ... For normal anthems he would put his hat over his heart like everyone else but for the Japanese anthems he would stand at attention, chest ... Nov 4, 2022 ... In this article, we will introduce all the facts about the Japanese national anthem, including explanations about the lyrics, the history and how it evolved. Jan 21, 2022 ... \"Kimigayo\" - Japanese national anthem has fascinating history. On one hand the lyrics are probably the oldest among all the world's anthem. Jan 13, 2015 ... The anthem sounded better as a strict canon or round than it did as it is originally written and currently performed. Aug 18, 2015 ... Kimi ga yo japanese national anthem by Misc Traditional sheet music arranged by mmnauj for Solo Piano – 1 of 1 pages Jun 22, 2015 ... In September 2006, Tokyo's district court ruled against the Tokyo Metropolitan Government and the Tokyo Metropolitan Board of Education over ...\u001b[0m\n",
      "Thought:\u001b[32;1m\u001b[1;3mI now know the national anthem of Japan.\n",
      "Final Answer: \"Kimigayo\" (君が代)\u001b[0m\n",
      "\n",
      "\u001b[1m> Finished chain.\u001b[0m\n"
     ]
    },
    {
     "data": {
      "text/plain": [
       "{'input': '「その国の国歌を教えて',\n",
       " 'chat_history': 'Human: 日本の人口は何人ですか？\\nAI: 現在の日本の人口は約1億2614万人です。',\n",
       " 'output': '\"Kimigayo\" (君が代)'}"
      ]
     },
     "execution_count": 15,
     "metadata": {},
     "output_type": "execute_result"
    }
   ],
   "source": [
    "agent_chain.invoke(input=\"「その国の国歌を教えて\")"
   ]
  },
  {
   "cell_type": "markdown",
   "metadata": {},
   "source": [
    "# Index検索Agent"
   ]
  },
  {
   "cell_type": "code",
   "execution_count": 16,
   "metadata": {},
   "outputs": [
    {
     "name": "stderr",
     "output_type": "stream",
     "text": [
      "Created a chunk of size 636, which is longer than the specified 512\n"
     ]
    }
   ],
   "source": [
    "from langchain_community.document_loaders import PyPDFLoader\n",
    "from langchain_text_splitters import CharacterTextSplitter\n",
    "from langchain_openai import OpenAIEmbeddings\n",
    "from langchain_community.vectorstores import Chroma\n",
    "\n",
    "# PDFの読込\n",
    "loader = PyPDFLoader(\"./data2/001615363.pdf\")\n",
    "documents = loader.load()\n",
    "\n",
    "# チャンクに分割\n",
    "text_splitter = CharacterTextSplitter(separator=\"\\n\", chunk_size=512, chunk_overlap=0)\n",
    "texts = text_splitter.split_documents(documents)\n",
    "\n",
    "# Indexの構築\n",
    "db = Chroma.from_documents(texts, OpenAIEmbeddings())\n",
    "\n",
    "# 検索（Retriever）の取得\n",
    "retriever = db.as_retriever()"
   ]
  },
  {
   "cell_type": "code",
   "execution_count": 17,
   "metadata": {},
   "outputs": [],
   "source": [
    "from langchain.tools.retriever import create_retriever_tool\n",
    "\n",
    "tools = [\n",
    "  create_retriever_tool(\n",
    "      retriever,\n",
    "      \"ForeignTravelersQASystem\",\n",
    "      \"訪日外国人の旅行や土産品、消費動向に関する質問に役立ちます。\",\n",
    "  )\n",
    "]"
   ]
  },
  {
   "cell_type": "code",
   "execution_count": 18,
   "metadata": {},
   "outputs": [],
   "source": [
    "from langchain_openai import ChatOpenAI\n",
    "\n",
    "llm = ChatOpenAI(model=\"gpt-3.5-turbo-0125\", temperature=1.2)"
   ]
  },
  {
   "cell_type": "code",
   "execution_count": 19,
   "metadata": {},
   "outputs": [
    {
     "data": {
      "text/plain": [
       "[SystemMessagePromptTemplate(prompt=PromptTemplate(input_variables=[], template='You are a helpful assistant')),\n",
       " MessagesPlaceholder(variable_name='chat_history', optional=True),\n",
       " HumanMessagePromptTemplate(prompt=PromptTemplate(input_variables=['input'], template='{input}')),\n",
       " MessagesPlaceholder(variable_name='agent_scratchpad')]"
      ]
     },
     "execution_count": 19,
     "metadata": {},
     "output_type": "execute_result"
    }
   ],
   "source": [
    "from langchain import hub\n",
    "\n",
    "# Get the prompt to use - you can modify this!\n",
    "prompt = hub.pull(\"hwchase17/openai-functions-agent\")\n",
    "prompt.messages"
   ]
  },
  {
   "cell_type": "code",
   "execution_count": 20,
   "metadata": {},
   "outputs": [],
   "source": [
    "from langchain.agents import create_openai_functions_agent\n",
    "\n",
    "agent = create_openai_functions_agent(llm, tools, prompt)"
   ]
  },
  {
   "cell_type": "code",
   "execution_count": 28,
   "metadata": {},
   "outputs": [],
   "source": [
    "from langchain.agents import AgentExecutor\n",
    "\n",
    "agent_executor = AgentExecutor(agent=agent, tools=tools, verbose=True)"
   ]
  },
  {
   "cell_type": "code",
   "execution_count": 21,
   "metadata": {},
   "outputs": [
    {
     "name": "stdout",
     "output_type": "stream",
     "text": [
      "\n",
      "\n",
      "\u001b[1m> Entering new AgentExecutor chain...\u001b[0m\n",
      "\u001b[32;1m\u001b[1;3mお土産の購入状況に関する情報が必要ですね。お手伝いさせていただきます。購入されたお土産の種類や数、お買い物した場所など詳細情報を教えていただけますか？\u001b[0m\n",
      "\n",
      "\u001b[1m> Finished chain.\u001b[0m\n"
     ]
    },
    {
     "data": {
      "text/plain": [
       "{'input': 'お土産の購入状況を教えて',\n",
       " 'output': 'お土産の購入状況に関する情報が必要ですね。お手伝いさせていただきます。購入されたお土産の種類や数、お買い物した場所など詳細情報を教えていただけますか？'}"
      ]
     },
     "execution_count": 21,
     "metadata": {},
     "output_type": "execute_result"
    }
   ],
   "source": [
    "agent_executor.invoke({\"input\": \"お土産の購入状況を教えて\"})"
   ]
  },
  {
   "cell_type": "markdown",
   "metadata": {},
   "source": [
    "# OpenAI Tool"
   ]
  },
  {
   "cell_type": "code",
   "execution_count": 22,
   "metadata": {},
   "outputs": [],
   "source": [
    "from langchain import hub\n",
    "from langchain.agents import AgentExecutor, create_openai_tools_agent\n",
    "from langchain_openai import ChatOpenAI"
   ]
  },
  {
   "cell_type": "code",
   "execution_count": 23,
   "metadata": {},
   "outputs": [],
   "source": [
    "# Get the prompt to use - you can modify this!\n",
    "prompt = hub.pull(\"hwchase17/openai-tools-agent\")"
   ]
  },
  {
   "cell_type": "code",
   "execution_count": 24,
   "metadata": {},
   "outputs": [],
   "source": [
    "import requests\n",
    "from bs4 import BeautifulSoup\n",
    "from langchain.chains import TransformChain\n",
    "\n",
    "# ニュースを検索する関数\n",
    "def get_news(inputs: dict) -> dict:\n",
    "    keyword = inputs[\"keyword\"]\n",
    "\n",
    "    # WebサイトのURLを指定\n",
    "    url = f'https://news.google.com/search?q={keyword}&hl=ja&gl=JP&ceid=JP:ja'\n",
    "\n",
    "    # Requestsを利用してWebページを取得する\n",
    "    response = requests.get(url)\n",
    "    html = response.text\n",
    "\n",
    "    # BeautifulSoupを利用してWebページを解析する\n",
    "    soup = BeautifulSoup(html, 'html.parser')\n",
    "\n",
    "    # soup.selectを利用して、ニュースのタイトルを取得する\n",
    "    elements = soup.select('article div div div a')\n",
    "\n",
    "    # ニュースのトップ3を配列に取得\n",
    "    news = []\n",
    "    for i, element in enumerate(elements):\n",
    "        news.append({\"title\": element.getText()})\n",
    "        if i>=2:\n",
    "            break\n",
    "\n",
    "    return {\"result\": news}\n",
    "\n",
    "# 関数をChain化\n",
    "news_chain = TransformChain(\n",
    "    input_variables=[\"keyword\"],\n",
    "    output_variables=[\"result\"],\n",
    "    transform=get_news\n",
    ")\n"
   ]
  },
  {
   "cell_type": "code",
   "execution_count": 25,
   "metadata": {},
   "outputs": [],
   "source": [
    "# 数式の文字列をもとに計算を行う関数\n",
    "def calc_func(inputs: dict) -> dict:\n",
    "    formula = inputs[\"formula\"]\n",
    "    answer = eval(formula)\n",
    "    return {\"answer\": f\"{answer}\"}\n",
    "\n",
    "# 関数をChain化\n",
    "calc_chain = TransformChain(\n",
    "    input_variables=[\"formula\"],\n",
    "    output_variables=[\"answer\"],\n",
    "    transform=calc_func\n",
    ")"
   ]
  },
  {
   "cell_type": "code",
   "execution_count": 26,
   "metadata": {},
   "outputs": [],
   "source": [
    "from langchain.agents import Tool\n",
    "from langchain_google_community import GoogleSearchAPIWrapper\n",
    "\n",
    "search = GoogleSearchAPIWrapper()\n",
    "\n",
    "tools = [\n",
    "    Tool(\n",
    "        name = \"news\", # 半角英数字のみ\n",
    "        func=news_chain.run,\n",
    "        description=\"ニュースを探す際に役立ちます\"\n",
    "    ),\n",
    "    Tool(\n",
    "        name = \"calculation\", # 半角英数字のみ\n",
    "        func=calc_chain.run,\n",
    "        description=\"計算をする場合に役立ちます\"\n",
    "    ),\n",
    "    Tool(\n",
    "        name = \"Search\", # 半角英数字のみ\n",
    "        func=search.run,\n",
    "        description=\"現在の出来事や世界の現状に関する質問に答える必要がある場合に役立ちます\"\n",
    "    ),\n",
    "]"
   ]
  },
  {
   "cell_type": "code",
   "execution_count": 27,
   "metadata": {},
   "outputs": [],
   "source": [
    "# Choose the LLM that will drive the agent\n",
    "# Only certain models support this\n",
    "llm = ChatOpenAI(model=\"gpt-3.5-turbo-0125\", temperature=0)\n",
    "\n",
    "# Construct the OpenAI Tools agent\n",
    "agent = create_openai_tools_agent(llm, tools, prompt)"
   ]
  },
  {
   "cell_type": "code",
   "execution_count": 28,
   "metadata": {},
   "outputs": [],
   "source": [
    "# Create an agent executor by passing in the agent and tools\n",
    "agent_executor = AgentExecutor(agent=agent, tools=tools, verbose=True)"
   ]
  },
  {
   "cell_type": "code",
   "execution_count": 29,
   "metadata": {},
   "outputs": [
    {
     "name": "stdout",
     "output_type": "stream",
     "text": [
      "\n",
      "\n",
      "\u001b[1m> Entering new AgentExecutor chain...\u001b[0m\n",
      "\u001b[32;1m\u001b[1;3m\n",
      "Invoking: `Search` with `LangChain`\n",
      "\n",
      "\n",
      "\u001b[0m\u001b[38;5;200m\u001b[1;3mBuild context-aware, reasoning applications with LangChain's flexible framework that leverages your company's data and APIs. LangChain helps developers build applications powered by LLMs through a standard interface for models, embeddings, vector stores, and more. Use LangChain for:. LangChain is a framework for developing applications powered by large language models (LLMs). LangChain simplifies every stage of the LLM application lifecycle. LangChain provides AI developers with tools to connect language models with external data sources. It is open-source and supported by an active community. New to LangChain or LLM app development in general? Read this material to quickly get up and running building your first applications. LangChain is a framework for developing applications powered by large language models (LLMs). LangChain simplifies every stage of the LLM application lifecycle. Dec 27, 2023 ... It is a great framework but it's actually so convoluted, inefficient and inconsistent now that they really need to focus on cleaning things up. sports, machine learning, software engineering, statistics} · Experience: LangChain · Education: Harvard University · Location: San Francisco · 500+ ... Nov 8, 2024 ... Unnecessary complexity due to over abstraction which in turn impacts maintainability, customization and productivity. Mar 15, 2024 ... About us. We're on a mission to make it easy to build the LLM apps of tomorrow, today. We build products that enable developers to go from an ...\u001b[0m\u001b[32;1m\u001b[1;3mLangChainは、大規模言語モデル（LLMs）によって動作するアプリケーションを開発するためのフレームワークです。LangChainは、LLMアプリケーションライフサイクルの各段階を簡素化します。LangChainは、AI開発者に言語モデルを外部データソースと接続するためのツールを提供します。LangChainはオープンソースであり、活発なコミュニティによってサポートされています。LangChainやLLMアプリケーション開発について初めての方は、この資料を読んで、すぐに最初のアプリケーションの構築を始めることができます。\u001b[0m\n",
      "\n",
      "\u001b[1m> Finished chain.\u001b[0m\n"
     ]
    },
    {
     "data": {
      "text/plain": [
       "{'input': 'LangChainとは何ですか?',\n",
       " 'output': 'LangChainは、大規模言語モデル（LLMs）によって動作するアプリケーションを開発するためのフレームワークです。LangChainは、LLMアプリケーションライフサイクルの各段階を簡素化します。LangChainは、AI開発者に言語モデルを外部データソースと接続するためのツールを提供します。LangChainはオープンソースであり、活発なコミュニティによってサポートされています。LangChainやLLMアプリケーション開発について初めての方は、この資料を読んで、すぐに最初のアプリケーションの構築を始めることができます。'}"
      ]
     },
     "execution_count": 29,
     "metadata": {},
     "output_type": "execute_result"
    }
   ],
   "source": [
    "agent_executor.invoke({\"input\": \"LangChainとは何ですか?\"})"
   ]
  },
  {
   "cell_type": "code",
   "execution_count": 30,
   "metadata": {},
   "outputs": [
    {
     "name": "stdout",
     "output_type": "stream",
     "text": [
      "\n",
      "\n",
      "\u001b[1m> Entering new AgentExecutor chain...\u001b[0m\n",
      "\u001b[32;1m\u001b[1;3m\n",
      "Invoking: `calculation` with `8*12`\n",
      "\n",
      "\n",
      "\u001b[0m\u001b[33;1m\u001b[1;3m96\u001b[0m\u001b[32;1m\u001b[1;3m8掛ける12は96です。\u001b[0m\n",
      "\n",
      "\u001b[1m> Finished chain.\u001b[0m\n"
     ]
    },
    {
     "data": {
      "text/plain": [
       "{'input': '8掛ける12は？', 'output': '8掛ける12は96です。'}"
      ]
     },
     "execution_count": 30,
     "metadata": {},
     "output_type": "execute_result"
    }
   ],
   "source": [
    "agent_executor.invoke({\"input\": \"8掛ける12は？\"})"
   ]
  },
  {
   "cell_type": "code",
   "execution_count": 31,
   "metadata": {},
   "outputs": [
    {
     "name": "stdout",
     "output_type": "stream",
     "text": [
      "\n",
      "\n",
      "\u001b[1m> Entering new AgentExecutor chain...\u001b[0m\n",
      "\u001b[32;1m\u001b[1;3m\n",
      "Invoking: `news` with `夏祭り`\n",
      "\n",
      "\n",
      "\u001b[0m\u001b[36;1m\u001b[1;3m[{'title': '茅野市の夏祭り「どんばん」は8月9日開催に'}, {'title': '東方Project×よみうりランド 博麗神社夏祭り2025inよみうりランド'}, {'title': '今年も「超」が盛りだくさん！《ファイターズ 超夏祭り》開催'}]\u001b[0m\u001b[32;1m\u001b[1;3m最新の夏祭りに関するニュースです：\n",
      "1. 茅野市の夏祭り「どんばん」は8月9日開催に\n",
      "2. 東方Project×よみうりランド 博麗神社夏祭り2025inよみうりランド\n",
      "3. 今年も「超」が盛りだくさん！《ファイターズ 超夏祭り》開催\n",
      "\n",
      "どれか特定のニュースについて詳細を知りたい場合はお知らせください。\u001b[0m\n",
      "\n",
      "\u001b[1m> Finished chain.\u001b[0m\n"
     ]
    },
    {
     "data": {
      "text/plain": [
       "{'input': '夏祭りに関するニュースを教えてください',\n",
       " 'output': '最新の夏祭りに関するニュースです：\\n1. 茅野市の夏祭り「どんばん」は8月9日開催に\\n2. 東方Project×よみうりランド 博麗神社夏祭り2025inよみうりランド\\n3. 今年も「超」が盛りだくさん！《ファイターズ 超夏祭り》開催\\n\\nどれか特定のニュースについて詳細を知りたい場合はお知らせください。'}"
      ]
     },
     "execution_count": 31,
     "metadata": {},
     "output_type": "execute_result"
    }
   ],
   "source": [
    "agent_executor.invoke({\"input\": \"夏祭りに関するニュースを教えてください\"})"
   ]
  },
  {
   "cell_type": "markdown",
   "metadata": {},
   "source": [
    "# Toolkit:Pandas DataFrame Agent"
   ]
  },
  {
   "cell_type": "code",
   "execution_count": 32,
   "metadata": {},
   "outputs": [
    {
     "data": {
      "text/html": [
       "<div>\n",
       "<style scoped>\n",
       "    .dataframe tbody tr th:only-of-type {\n",
       "        vertical-align: middle;\n",
       "    }\n",
       "\n",
       "    .dataframe tbody tr th {\n",
       "        vertical-align: top;\n",
       "    }\n",
       "\n",
       "    .dataframe thead th {\n",
       "        text-align: right;\n",
       "    }\n",
       "</style>\n",
       "<table border=\"1\" class=\"dataframe\">\n",
       "  <thead>\n",
       "    <tr style=\"text-align: right;\">\n",
       "      <th></th>\n",
       "      <th>SepalLength</th>\n",
       "      <th>SepalWidth</th>\n",
       "      <th>PetalLength</th>\n",
       "      <th>PetalWidth</th>\n",
       "      <th>Name</th>\n",
       "    </tr>\n",
       "  </thead>\n",
       "  <tbody>\n",
       "    <tr>\n",
       "      <th>0</th>\n",
       "      <td>5.1</td>\n",
       "      <td>3.5</td>\n",
       "      <td>1.4</td>\n",
       "      <td>0.2</td>\n",
       "      <td>Iris-setosa</td>\n",
       "    </tr>\n",
       "    <tr>\n",
       "      <th>1</th>\n",
       "      <td>4.9</td>\n",
       "      <td>3.0</td>\n",
       "      <td>1.4</td>\n",
       "      <td>0.2</td>\n",
       "      <td>Iris-setosa</td>\n",
       "    </tr>\n",
       "    <tr>\n",
       "      <th>2</th>\n",
       "      <td>4.7</td>\n",
       "      <td>3.2</td>\n",
       "      <td>1.3</td>\n",
       "      <td>0.2</td>\n",
       "      <td>Iris-setosa</td>\n",
       "    </tr>\n",
       "    <tr>\n",
       "      <th>3</th>\n",
       "      <td>4.6</td>\n",
       "      <td>3.1</td>\n",
       "      <td>1.5</td>\n",
       "      <td>0.2</td>\n",
       "      <td>Iris-setosa</td>\n",
       "    </tr>\n",
       "    <tr>\n",
       "      <th>4</th>\n",
       "      <td>5.0</td>\n",
       "      <td>3.6</td>\n",
       "      <td>1.4</td>\n",
       "      <td>0.2</td>\n",
       "      <td>Iris-setosa</td>\n",
       "    </tr>\n",
       "  </tbody>\n",
       "</table>\n",
       "</div>"
      ],
      "text/plain": [
       "   SepalLength  SepalWidth  PetalLength  PetalWidth         Name\n",
       "0          5.1         3.5          1.4         0.2  Iris-setosa\n",
       "1          4.9         3.0          1.4         0.2  Iris-setosa\n",
       "2          4.7         3.2          1.3         0.2  Iris-setosa\n",
       "3          4.6         3.1          1.5         0.2  Iris-setosa\n",
       "4          5.0         3.6          1.4         0.2  Iris-setosa"
      ]
     },
     "execution_count": 32,
     "metadata": {},
     "output_type": "execute_result"
    }
   ],
   "source": [
    "import pandas as pd\n",
    "\n",
    "df = pd.read_csv(\"./data2/iris.data\", header=0)\n",
    "df.head()"
   ]
  },
  {
   "cell_type": "code",
   "execution_count": 33,
   "metadata": {},
   "outputs": [],
   "source": [
    "from langchain.agents.agent_types import AgentType\n",
    "from langchain_openai import ChatOpenAI\n",
    "from langchain_experimental.agents.agent_toolkits import create_pandas_dataframe_agent"
   ]
  },
  {
   "cell_type": "code",
   "execution_count": 34,
   "metadata": {},
   "outputs": [],
   "source": [
    "agent = create_pandas_dataframe_agent(\n",
    "    ChatOpenAI(temperature=0, model=\"gpt-3.5-turbo-0125\"),\n",
    "    df,\n",
    "    verbose=True,\n",
    "    agent_type=AgentType.OPENAI_FUNCTIONS,\n",
    ")"
   ]
  },
  {
   "cell_type": "code",
   "execution_count": 35,
   "metadata": {},
   "outputs": [
    {
     "name": "stdout",
     "output_type": "stream",
     "text": [
      "\n",
      "\n",
      "\u001b[1m> Entering new AgentExecutor chain...\u001b[0m\n",
      "\u001b[32;1m\u001b[1;3m\n",
      "Invoking: `python_repl_ast` with `{'query': 'df.shape[0]'}`\n",
      "\n",
      "\n",
      "\u001b[0m\u001b[36;1m\u001b[1;3m150\u001b[0m\u001b[32;1m\u001b[1;3mデータフレームには150行あります。\u001b[0m\n",
      "\n",
      "\u001b[1m> Finished chain.\u001b[0m\n"
     ]
    },
    {
     "data": {
      "text/plain": [
       "{'input': '何行ありますか？', 'output': 'データフレームには150行あります。'}"
      ]
     },
     "execution_count": 35,
     "metadata": {},
     "output_type": "execute_result"
    }
   ],
   "source": [
    "agent.invoke(\"何行ありますか？\")"
   ]
  },
  {
   "cell_type": "code",
   "execution_count": 36,
   "metadata": {},
   "outputs": [
    {
     "name": "stdout",
     "output_type": "stream",
     "text": [
      "\n",
      "\n",
      "\u001b[1m> Entering new AgentExecutor chain...\u001b[0m\n",
      "\u001b[32;1m\u001b[1;3m\n",
      "Invoking: `python_repl_ast` with `{'query': \"df['Name'].describe()\"}`\n",
      "\n",
      "\n",
      "\u001b[0m\u001b[36;1m\u001b[1;3mcount             150\n",
      "unique              3\n",
      "top       Iris-setosa\n",
      "freq               50\n",
      "Name: Name, dtype: object\u001b[0m\u001b[32;1m\u001b[1;3m`Name`列の基本統計量は以下の通りです:\n",
      "- データ数（count）: 150\n",
      "- ユニークな値の数（unique）: 3\n",
      "- 最も頻繁に現れる値（top）: Iris-setosa\n",
      "- 最も頻繁に現れる値の出現回数（freq）: 50\u001b[0m\n",
      "\n",
      "\u001b[1m> Finished chain.\u001b[0m\n"
     ]
    },
    {
     "data": {
      "text/plain": [
       "{'input': 'Nameの基本統計量を出力してください',\n",
       " 'output': '`Name`列の基本統計量は以下の通りです:\\n- データ数（count）: 150\\n- ユニークな値の数（unique）: 3\\n- 最も頻繁に現れる値（top）: Iris-setosa\\n- 最も頻繁に現れる値の出現回数（freq）: 50'}"
      ]
     },
     "execution_count": 36,
     "metadata": {},
     "output_type": "execute_result"
    }
   ],
   "source": [
    "agent.invoke(\"Nameの基本統計量を出力してください\")"
   ]
  },
  {
   "cell_type": "code",
   "execution_count": 37,
   "metadata": {},
   "outputs": [
    {
     "name": "stdout",
     "output_type": "stream",
     "text": [
      "\n",
      "\n",
      "\u001b[1m> Entering new AgentExecutor chain...\u001b[0m\n",
      "\u001b[32;1m\u001b[1;3mこのデータは、アヤメの花（Iris）の品種ごとにセパル（がく片）とペタル（花弁）の長さと幅を示しています。各行は1つのアヤメの花を表し、列は以下の情報を提供しています：\n",
      "\n",
      "- SepalLength: がく片の長さ\n",
      "- SepalWidth: がく片の幅\n",
      "- PetalLength: 花弁の長さ\n",
      "- PetalWidth: 花弁の幅\n",
      "- Name: アヤメの品種（このデータでは\"Iris-setosa\"のみ）\n",
      "\n",
      "データの先頭から5行を示しており、それぞれの行が異なるアヤメの花を表しています。\u001b[0m\n",
      "\n",
      "\u001b[1m> Finished chain.\u001b[0m\n"
     ]
    },
    {
     "data": {
      "text/plain": [
       "{'input': 'このデータについて説明してください',\n",
       " 'output': 'このデータは、アヤメの花（Iris）の品種ごとにセパル（がく片）とペタル（花弁）の長さと幅を示しています。各行は1つのアヤメの花を表し、列は以下の情報を提供しています：\\n\\n- SepalLength: がく片の長さ\\n- SepalWidth: がく片の幅\\n- PetalLength: 花弁の長さ\\n- PetalWidth: 花弁の幅\\n- Name: アヤメの品種（このデータでは\"Iris-setosa\"のみ）\\n\\nデータの先頭から5行を示しており、それぞれの行が異なるアヤメの花を表しています。'}"
      ]
     },
     "execution_count": 37,
     "metadata": {},
     "output_type": "execute_result"
    }
   ],
   "source": [
    "agent.invoke(\"このデータについて説明してください\")"
   ]
  },
  {
   "cell_type": "markdown",
   "metadata": {},
   "source": [
    "# Toolkit:Python Agent"
   ]
  },
  {
   "cell_type": "code",
   "execution_count": 38,
   "metadata": {},
   "outputs": [],
   "source": [
    "from langchain import hub\n",
    "from langchain.agents import AgentExecutor\n",
    "from langchain_experimental.tools import PythonREPLTool"
   ]
  },
  {
   "cell_type": "code",
   "execution_count": 39,
   "metadata": {},
   "outputs": [],
   "source": [
    "tools = [PythonREPLTool()]"
   ]
  },
  {
   "cell_type": "code",
   "execution_count": 40,
   "metadata": {},
   "outputs": [],
   "source": [
    "from langchain.agents import create_openai_functions_agent\n",
    "from langchain_openai import ChatOpenAI"
   ]
  },
  {
   "cell_type": "code",
   "execution_count": 41,
   "metadata": {},
   "outputs": [],
   "source": [
    "instructions = \"\"\"あなたは、質問に答えるために Python コードを作成して実行するように設計されたエージェントです。\n",
    "Python コードを実行するために使用できる Python REPL にアクセスできます。\n",
    "エラーが発生した場合は、コードをデバッグして再試行してください。\n",
    "コードの出力は質問に答えるためにのみ使用してください。\n",
    "コードを実行しなくても答えがわかる場合もありますが、答えを得るにはコードを実行する必要があります。\n",
    "質問に答えるコードを書けそうにない場合は、「わかりません」と答えてください。\n",
    "\"\"\"\n",
    "base_prompt = hub.pull(\"langchain-ai/openai-functions-template\")\n",
    "prompt = base_prompt.partial(instructions=instructions)"
   ]
  },
  {
   "cell_type": "code",
   "execution_count": 42,
   "metadata": {},
   "outputs": [],
   "source": [
    "agent = create_openai_functions_agent(ChatOpenAI(model=\"gpt-3.5-turbo-0125\", temperature=0), tools, prompt)"
   ]
  },
  {
   "cell_type": "code",
   "execution_count": 43,
   "metadata": {},
   "outputs": [],
   "source": [
    "agent_executor = AgentExecutor(agent=agent, tools=tools, verbose=True)"
   ]
  },
  {
   "cell_type": "code",
   "execution_count": 44,
   "metadata": {},
   "outputs": [
    {
     "name": "stdout",
     "output_type": "stream",
     "text": [
      "\n",
      "\n",
      "\u001b[1m> Entering new AgentExecutor chain...\u001b[0m\n"
     ]
    },
    {
     "name": "stderr",
     "output_type": "stream",
     "text": [
      "Python REPL can execute arbitrary code. Use with caution.\n"
     ]
    },
    {
     "name": "stdout",
     "output_type": "stream",
     "text": [
      "\u001b[32;1m\u001b[1;3m\n",
      "Invoking: `Python_REPL` with `def is_prime(n):\n",
      "    if n <= 1:\n",
      "        return False\n",
      "    for i in range(2, int(n**0.5) + 1):\n",
      "        if n % i == 0:\n",
      "            return False\n",
      "    return True\n",
      "\n",
      "primes = [num for num in range(2, 101) if is_prime(num)]\n",
      "primes`\n",
      "\n",
      "\n",
      "\u001b[0m\u001b[36;1m\u001b[1;3m\u001b[0m\u001b[32;1m\u001b[1;3m100までの素数は、[2, 3, 5, 7, 11, 13, 17, 19, 23, 29, 31, 37, 41, 43, 47, 53, 59, 61, 67, 71, 73, 79, 83, 89, 97] です。\u001b[0m\n",
      "\n",
      "\u001b[1m> Finished chain.\u001b[0m\n"
     ]
    },
    {
     "data": {
      "text/plain": [
       "{'input': '100までの素数を求めよ',\n",
       " 'output': '100までの素数は、[2, 3, 5, 7, 11, 13, 17, 19, 23, 29, 31, 37, 41, 43, 47, 53, 59, 61, 67, 71, 73, 79, 83, 89, 97] です。'}"
      ]
     },
     "execution_count": 44,
     "metadata": {},
     "output_type": "execute_result"
    }
   ],
   "source": [
    "agent_executor.invoke({\"input\": \"100までの素数を求めよ\"})"
   ]
  },
  {
   "cell_type": "code",
   "execution_count": null,
   "metadata": {},
   "outputs": [],
   "source": []
  }
 ],
 "metadata": {
  "kernelspec": {
   "display_name": ".venv",
   "language": "python",
   "name": "python3"
  },
  "language_info": {
   "codemirror_mode": {
    "name": "ipython",
    "version": 3
   },
   "file_extension": ".py",
   "mimetype": "text/x-python",
   "name": "python",
   "nbconvert_exporter": "python",
   "pygments_lexer": "ipython3",
   "version": "3.11.9"
  },
  "orig_nbformat": 4
 },
 "nbformat": 4,
 "nbformat_minor": 2
}
