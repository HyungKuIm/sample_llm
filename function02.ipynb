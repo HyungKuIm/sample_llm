{
 "cells": [
  {
   "cell_type": "code",
   "execution_count": 2,
   "metadata": {},
   "outputs": [],
   "source": [
    "import os\n",
    "from dotenv import load_dotenv\n",
    "from openai import OpenAI\n",
    "from googleapiclient.discovery import build\n",
    "\n",
    "\n",
    "import httpx\n",
    "\n",
    "class CustomHTTPClient(httpx.Client):\n",
    "    def __init__(self, *args, **kwargs):\n",
    "        kwargs.pop(\"proxies\", None) # Remove the 'proxies' argument if present\n",
    "        super().__init__(*args, **kwargs)\n",
    "\n",
    "load_dotenv()\n",
    "client = OpenAI(api_key=os.environ['API_KEY'], http_client=CustomHTTPClient())\n",
    "model_name = \"gpt-3.5-turbo-0125\"\n",
    "\n",
    "google_cse_id = os.environ['GOOGLE_CSE_ID']\n",
    "google_api_key = os.environ['GOOGLE_API_KEY']"
   ]
  }
 ],
 "metadata": {
  "kernelspec": {
   "display_name": ".venv",
   "language": "python",
   "name": "python3"
  },
  "language_info": {
   "codemirror_mode": {
    "name": "ipython",
    "version": 3
   },
   "file_extension": ".py",
   "mimetype": "text/x-python",
   "name": "python",
   "nbconvert_exporter": "python",
   "pygments_lexer": "ipython3",
   "version": "3.11.9"
  }
 },
 "nbformat": 4,
 "nbformat_minor": 2
}
