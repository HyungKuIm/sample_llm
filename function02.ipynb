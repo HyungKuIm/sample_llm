{
 "cells": [
  {
   "cell_type": "code",
   "execution_count": 1,
   "id": "94f5640c",
   "metadata": {},
   "outputs": [],
   "source": [
    "import os\n",
    "from dotenv import load_dotenv\n",
    "from openai import OpenAI\n",
    "from googleapiclient.discovery import build\n",
    "\n",
    "\n",
    "import httpx\n",
    "\n",
    "class CustomHTTPClient(httpx.Client):\n",
    "    def __init__(self, *args, **kwargs):\n",
    "        kwargs.pop(\"proxies\", None) # Remove the 'proxies' argument if present\n",
    "        super().__init__(*args, **kwargs)\n",
    "\n",
    "load_dotenv()\n",
    "client = OpenAI(api_key=os.environ['API_KEY'], http_client=CustomHTTPClient())\n",
    "model_name = \"gpt-3.5-turbo-0125\"\n",
    "\n",
    "google_cse_id = os.environ['GOOGLE_CSE_ID']\n",
    "google_api_key = os.environ['GOOGLE_API_KEY']"
   ]
  },
  {
   "cell_type": "code",
   "execution_count": 2,
   "id": "fb6d2b68",
   "metadata": {},
   "outputs": [],
   "source": [
    "import json\n",
    "\n",
    "# 뉴스를 리턴하는 함수 작성\n",
    "def get_search_result(keyword, when, unit=\"d\"):\n",
    "    service = build(\"customsearch\", \"v1\", developerKey=google_api_key)\n",
    "    result = service.cse().list(q=keyword, dateRestrict=f\"{when}{unit}\", cx=google_cse_id).execute()\n",
    "\n",
    "    # 검색결과의 상위 3위을 배열에 취득함\n",
    "    result_list = []\n",
    "    for i, item in enumerate(result[\"items\"]):\n",
    "        result_list.append({\"title\": f'{item[\"title\"]} {item[\"snippet\"]}'})\n",
    "        if i>=2:\n",
    "            break\n",
    "\n",
    "    return json.dumps({\"result\": result_list})"
   ]
  },
  {
   "cell_type": "code",
   "execution_count": 3,
   "id": "bd2a6e54",
   "metadata": {},
   "outputs": [
    {
     "name": "stdout",
     "output_type": "stream",
     "text": [
      "--------------------\n",
      "문화역서울284 문화역서울284는 한국 근·현대사의 주요 무대이자 교통과 교류의 관문이었던 구 서울역의 원형을 복원한 복합문화공간입니다. 문화·예술의 창작과 교류가 이루어지는 ...\n",
      "--------------------\n",
      "토이저러스 제타플렉스 서울역 오픈 기념 [건프라 이벤트 안내 ... Sep 13, 2023 ... 토이저러스 제타플렉스 서울역 오픈 기념 [건프라 이벤트 안내] ... 9월 14일(목) 오픈 예정인 토이저러스 제타플렉스 서울역 오픈 기념 건프라 판매 행사가 ...\n",
      "--------------------\n",
      "Hoxy.. 파이브가이즈 서울역 4호점 오픈한 소식 모르는 분 없으시죠 ... Apr 10, 2024 ... ... 파이브가이즈고속터미널 #파이브가이즈서울역 #이벤트 #댓글이벤트 #fiveguys #fiveguyskorea #fiveguysfans #event\".\n"
     ]
    }
   ],
   "source": [
    "# 테스트 코드\n",
    "ret = get_search_result(\"서울역 이벤트\", 1, \"m\")\n",
    "ret2 = json.loads(ret)\n",
    "for n in ret2[\"result\"]:\n",
    "    print(\"-\"*20)\n",
    "    print(n[\"title\"])"
   ]
  },
  {
   "cell_type": "code",
   "execution_count": 4,
   "id": "8769c301",
   "metadata": {},
   "outputs": [],
   "source": [
    "from openai.types.chat import ChatCompletionToolParam\n",
    "\n",
    "# 툴 정의\n",
    "tools=[\n",
    "    ChatCompletionToolParam({\n",
    "        \"type\": \"function\",\n",
    "        \"function\": {\n",
    "            \"name\": \"get_search_result\",\n",
    "            \"description\": \"지정한 키워드의 검색결과를 취득\",\n",
    "            \"parameters\": {\n",
    "                \"type\": \"object\",\n",
    "                \"properties\": {\n",
    "                    \"keyword\": {\n",
    "                        \"type\": \"string\",\n",
    "                        \"description\": \"キーワード\",\n",
    "                    },\n",
    "                    \"when\": {\n",
    "                        \"type\": \"number\",\n",
    "                        \"description\": \"날짜나시간의 범주\"\n",
    "                    },\n",
    "                    \"unit\": {\n",
    "                        \"type\": \"string\",\n",
    "                        \"enum\": [\"m\", \"d\", \"h\", \"y\"]\n",
    "                    },\n",
    "                },\n",
    "                \"required\": [\"keyword\"],\n",
    "            },\n",
    "        },\n",
    "    })\n",
    "]"
   ]
  },
  {
   "cell_type": "code",
   "execution_count": 5,
   "id": "5cfe6cb6",
   "metadata": {},
   "outputs": [],
   "source": [
    "question = \"서울역의 이벤트에 대해서, 최근 1개월이내의 검색결과를 가르쳐줘\"\n",
    "\n",
    "response = client.chat.completions.create(\n",
    "    model=model_name,\n",
    "    messages=[\n",
    "        {\"role\": \"user\", \"content\": question},\n",
    "    ],\n",
    "    tools=tools,\n",
    "    tool_choice=\"auto\",\n",
    ")"
   ]
  },
  {
   "cell_type": "code",
   "execution_count": 6,
   "id": "5c11c1cc",
   "metadata": {},
   "outputs": [
    {
     "data": {
      "text/plain": [
       "ChatCompletion(id='chatcmpl-BKH0AulnM3is4lOyqV7vQ714ZiVuq', choices=[Choice(finish_reason='tool_calls', index=0, logprobs=None, message=ChatCompletionMessage(content=None, refusal=None, role='assistant', annotations=[], audio=None, function_call=None, tool_calls=[ChatCompletionMessageToolCall(id='call_w59vb2IomY1ur9mE1TrWNgD4', function=Function(arguments='{\"keyword\":\"서울역 이벤트\",\"when\":1,\"unit\":\"m\"}', name='get_search_result'), type='function')]))], created=1744171614, model='gpt-3.5-turbo-0125', object='chat.completion', service_tier='default', system_fingerprint=None, usage=CompletionUsage(completion_tokens=32, prompt_tokens=138, total_tokens=170, completion_tokens_details=CompletionTokensDetails(accepted_prediction_tokens=0, audio_tokens=0, reasoning_tokens=0, rejected_prediction_tokens=0), prompt_tokens_details=PromptTokensDetails(audio_tokens=0, cached_tokens=0)))"
      ]
     },
     "execution_count": 6,
     "metadata": {},
     "output_type": "execute_result"
    }
   ],
   "source": [
    "response"
   ]
  },
  {
   "cell_type": "code",
   "execution_count": 7,
   "id": "9aa268a2",
   "metadata": {},
   "outputs": [
    {
     "data": {
      "text/plain": [
       "'{\"keyword\":\"서울역 이벤트\",\"when\":1,\"unit\":\"m\"}'"
      ]
     },
     "execution_count": 7,
     "metadata": {},
     "output_type": "execute_result"
    }
   ],
   "source": [
    "response.choices[0].message.tool_calls[0].function.arguments"
   ]
  },
  {
   "cell_type": "code",
   "execution_count": 8,
   "id": "a05f5b15",
   "metadata": {},
   "outputs": [
    {
     "name": "stdout",
     "output_type": "stream",
     "text": [
      "함수명：get_search_result\n",
      "인수：{'keyword': '서울역 이벤트', 'when': 1, 'unit': 'm'}\n",
      "함수의 실행 결과：{\"result\": [{\"title\": \"\\ubb38\\ud654\\uc5ed\\uc11c\\uc6b8284 \\ubb38\\ud654\\uc5ed\\uc11c\\uc6b8284\\ub294 \\ud55c\\uad6d \\uadfc\\u00b7\\ud604\\ub300\\uc0ac\\uc758 \\uc8fc\\uc694 \\ubb34\\ub300\\uc774\\uc790 \\uad50\\ud1b5\\uacfc \\uad50\\ub958\\uc758 \\uad00\\ubb38\\uc774\\uc5c8\\ub358 \\uad6c \\uc11c\\uc6b8\\uc5ed\\uc758 \\uc6d0\\ud615\\uc744 \\ubcf5\\uc6d0\\ud55c \\ubcf5\\ud569\\ubb38\\ud654\\uacf5\\uac04\\uc785\\ub2c8\\ub2e4. \\ubb38\\ud654\\u00b7\\uc608\\uc220\\uc758 \\ucc3d\\uc791\\uacfc \\uad50\\ub958\\uac00 \\uc774\\ub8e8\\uc5b4\\uc9c0\\ub294\\u00a0...\"}, {\"title\": \"\\ud1a0\\uc774\\uc800\\ub7ec\\uc2a4 \\uc81c\\ud0c0\\ud50c\\ub809\\uc2a4 \\uc11c\\uc6b8\\uc5ed \\uc624\\ud508 \\uae30\\ub150 [\\uac74\\ud504\\ub77c \\uc774\\ubca4\\ud2b8 \\uc548\\ub0b4 ... Sep 13, 2023 ... \\ud1a0\\uc774\\uc800\\ub7ec\\uc2a4 \\uc81c\\ud0c0\\ud50c\\ub809\\uc2a4 \\uc11c\\uc6b8\\uc5ed \\uc624\\ud508 \\uae30\\ub150 [\\uac74\\ud504\\ub77c \\uc774\\ubca4\\ud2b8 \\uc548\\ub0b4] ... 9\\uc6d4 14\\uc77c(\\ubaa9) \\uc624\\ud508 \\uc608\\uc815\\uc778 \\ud1a0\\uc774\\uc800\\ub7ec\\uc2a4 \\uc81c\\ud0c0\\ud50c\\ub809\\uc2a4 \\uc11c\\uc6b8\\uc5ed \\uc624\\ud508 \\uae30\\ub150 \\uac74\\ud504\\ub77c \\ud310\\ub9e4 \\ud589\\uc0ac\\uac00\\u00a0...\"}, {\"title\": \"Hoxy.. \\ud30c\\uc774\\ube0c\\uac00\\uc774\\uc988 \\uc11c\\uc6b8\\uc5ed 4\\ud638\\uc810 \\uc624\\ud508\\ud55c \\uc18c\\uc2dd \\ubaa8\\ub974\\ub294 \\ubd84 \\uc5c6\\uc73c\\uc2dc\\uc8e0 ... Apr 10, 2024 ... ... \\ud30c\\uc774\\ube0c\\uac00\\uc774\\uc988\\uace0\\uc18d\\ud130\\ubbf8\\ub110 #\\ud30c\\uc774\\ube0c\\uac00\\uc774\\uc988\\uc11c\\uc6b8\\uc5ed #\\uc774\\ubca4\\ud2b8 #\\ub313\\uae00\\uc774\\ubca4\\ud2b8 #fiveguys #fiveguyskorea #fiveguysfans #event\\\".\"}]}\n",
      "최근 1개월 이내의 '서울역 이벤트' 관련 검색 결과를 알려드립니다. \n",
      "\n",
      "1. **서울역 84회 포럼**\n",
      "   - 한국 안전·환경사의 취미와 교훈과의 관계와 서울역의 모습을 변화시킨 변화의 가닥을 분석하며, 포럼의 캡슐을 발견한 분들을 대상으로 추첨 이벤트가 진행되는 모습입니다.\n",
      "\n",
      "2. **토이콘텐츠 서울역 팝업 쇼설**\n",
      "   - 9월 14일(목)에 서울역 팝업 쇼설이 진행됩니다. 이벤트 참여 및 이벤트 의류 예약 신청이 가능합니다.\n",
      "\n",
      "3. **Hoxy.. 카드프리즈 서울역 4호선 이벤트**\n",
      "   - \"카드프리즈 이벤트 팝업한 내용을 알려주는 지칭은 어디로?\" 관련 글입니다.\n",
      "\n",
      "이상입니다. 더 다양한 이벤트 정보를 찾으실 수 있습니다.\n"
     ]
    }
   ],
   "source": [
    "# 모델이 툴호출인지 판단함\n",
    "if response.choices[0].message.tool_calls is not None:\n",
    "    # 언어 모델의 응답으로부터 툴 취득\n",
    "    tool = response.choices[0].message.tool_calls[0]\n",
    "\n",
    "    # 함수명 취득\n",
    "    function_name = tool.function.name\n",
    "    print(f\"함수명：{function_name}\")\n",
    "    # 인수 취득\n",
    "    arguments = json.loads(tool.function.arguments)\n",
    "    print(f\"인수：{arguments}\")\n",
    "\n",
    "    # 함수명으로 실행할 함수 판단\n",
    "    if function_name == \"get_search_result\":\n",
    "        function_response = get_search_result(\n",
    "            keyword=arguments.get(\"keyword\"),\n",
    "            when=arguments.get(\"when\"),\n",
    "            unit=arguments.get(\"unit\"),\n",
    "        )\n",
    "    print(f\"함수의 실행 결과：{function_response}\")\n",
    "\n",
    "    # 함수의 실행 결과를 messages에 추가하여 언어 모델 호출\n",
    "    response2 = client.chat.completions.create(\n",
    "        model=model_name,\n",
    "        messages=[\n",
    "            {\"role\": \"user\", \"content\": question},\n",
    "            response.choices[0].message,\n",
    "            {\n",
    "                \"tool_call_id\": tool.id,\n",
    "                \"role\": \"tool\",\n",
    "                \"content\": function_response,\n",
    "            },\n",
    "        ],\n",
    "    )\n",
    "\n",
    "    # 언어 모델로부터 응답을 출력\n",
    "    print(response2.choices[0].message.content.strip())\n",
    "\n",
    "else:\n",
    "    # 함수호출을 하지 않는다면, 단순히 언어 모델로부터 응답 출력\n",
    "    print(response.choices[0].message.content.strip())"
   ]
  },
  {
   "cell_type": "code",
   "execution_count": 9,
   "id": "866147da",
   "metadata": {},
   "outputs": [],
   "source": [
    "import json\n",
    "import requests\n",
    "from bs4 import BeautifulSoup\n",
    "\n",
    "# 뉴스를 검색하는 함수\n",
    "def get_news(keyword, when, unit=\"d\"):\n",
    "    # Web 사이트의 URL 취득\n",
    "    url=f'https://news.google.com/search?q={keyword} when:{when}{unit}&hl=ko&gl=KR&ceid=KR:ko'\n",
    "\n",
    "    # Requests를 이용하여 Web페이지 취득\n",
    "    response = requests.get(url)\n",
    "    html = response.text\n",
    "\n",
    "    # BeautifulSoup 를 이용하여 Web 페이지 해석\n",
    "    soup = BeautifulSoup(html, 'html.parser')\n",
    "\n",
    "    # soup.select를 이용하여, 뉴스의 제목 취득\n",
    "    elements = soup.select('article div div div a')\n",
    "\n",
    "    # 뉴스의 상위 3개 항목을 배열에 취득\n",
    "    news = []\n",
    "    for i, element in enumerate(elements):\n",
    "        news.append({\"title\": element.getText()})\n",
    "        if i >= 2:\n",
    "            break\n",
    "    return json.dumps({\"news\":news})"
   ]
  },
  {
   "cell_type": "code",
   "execution_count": 10,
   "id": "6e309635",
   "metadata": {},
   "outputs": [
    {
     "name": "stdout",
     "output_type": "stream",
     "text": [
      "--------------------\n",
      "영등포구의회, 여의도봄꽃축제 상황실 방문\n",
      "--------------------\n",
      "영등포구, 여의도 봄꽃축제 연계…‘봄꽃 할인 행사’ 진행\n",
      "--------------------\n",
      "화순군, 봄꽃 축제장서 '군민행복 아카데미' 진행\n"
     ]
    }
   ],
   "source": [
    "# 테스트용 코드\n",
    "ret = get_news(\"봄꽃축제\", 5)\n",
    "ret2 = json.loads(ret)\n",
    "for n in ret2[\"news\"]:\n",
    "    print(\"-\" * 20)\n",
    "    print(n[\"title\"])"
   ]
  },
  {
   "cell_type": "code",
   "execution_count": 11,
   "id": "e9eaf770",
   "metadata": {},
   "outputs": [],
   "source": [
    "from openai.types.chat import ChatCompletionToolParam\n",
    "\n",
    "# 툴의 정의\n",
    "tools=[\n",
    "    ChatCompletionToolParam({\n",
    "        \"type\": \"function\",\n",
    "        \"function\": {\n",
    "            \"name\": \"get_search_result\",\n",
    "            \"description\": \"지정한 검색결과의 키워드를 취득함\",\n",
    "            \"parameters\": {\n",
    "                \"type\": \"object\",\n",
    "                \"properties\": {\n",
    "                    \"keyword\": {\n",
    "                        \"type\": \"string\",\n",
    "                        \"description\": \"キーワード\",\n",
    "                    },\n",
    "                    \"when\": {\n",
    "                        \"type\": \"number\",\n",
    "                        \"description\": \"날짜나 시간의 범주\"\n",
    "                    },\n",
    "                    \"unit\": {\n",
    "                        \"type\": \"string\",\n",
    "                        \"enum\": [\"m\", \"d\", \"h\", \"y\"]\n",
    "                    },\n",
    "                },\n",
    "                \"required\": [\"keyword\"],\n",
    "            },\n",
    "        },\n",
    "    }),\n",
    "    ChatCompletionToolParam({\n",
    "        \"type\": \"function\",\n",
    "        \"function\": {\n",
    "            \"name\": \"get_news\",\n",
    "            \"description\": \"지정한 키워드의 뉴스를 취득\",\n",
    "            \"parameters\": {\n",
    "                \"type\": \"object\",\n",
    "                \"properties\": {\n",
    "                    \"keyword\": {\n",
    "                        \"type\": \"string\",\n",
    "                        \"description\": \"키워드\",\n",
    "                    },\n",
    "                    \"when\": {\n",
    "                        \"type\": \"number\",\n",
    "                        \"description\": \"날짜나 시간의 범주\"\n",
    "                    },\n",
    "                    \"unit\": {\n",
    "                        \"type\": \"string\",\n",
    "                        \"enum\": [\"m\", \"d\", \"h\", \"y\"]\n",
    "                    },\n",
    "                },\n",
    "                \"required\": [\"keyword\"],\n",
    "            },\n",
    "        },\n",
    "    })\n",
    "]"
   ]
  },
  {
   "cell_type": "code",
   "execution_count": 12,
   "id": "871d6a01",
   "metadata": {},
   "outputs": [
    {
     "data": {
      "text/plain": [
       "ChatCompletion(id='chatcmpl-BKH0tyRtE7zd8m8vOR4sahqcyXpFU', choices=[Choice(finish_reason='tool_calls', index=0, logprobs=None, message=ChatCompletionMessage(content=None, refusal=None, role='assistant', annotations=[], audio=None, function_call=None, tool_calls=[ChatCompletionMessageToolCall(id='call_FTnajhhFX0n1BLwJdUT2SaSB', function=Function(arguments='{\"keyword\":\"봄꽃축제\",\"when\":5,\"unit\":\"d\"}', name='get_news'), type='function')]))], created=1744171659, model='gpt-3.5-turbo-0125', object='chat.completion', service_tier='default', system_fingerprint=None, usage=CompletionUsage(completion_tokens=31, prompt_tokens=207, total_tokens=238, completion_tokens_details=CompletionTokensDetails(accepted_prediction_tokens=0, audio_tokens=0, reasoning_tokens=0, rejected_prediction_tokens=0), prompt_tokens_details=PromptTokensDetails(audio_tokens=0, cached_tokens=0)))"
      ]
     },
     "execution_count": 12,
     "metadata": {},
     "output_type": "execute_result"
    }
   ],
   "source": [
    "# question = \"東京駅のイベントについて、最近1ヶ月以内の検索結果を教えてください\"\n",
    "question = \"봄꽃축제에 관한 5일내의 뉴스에 대해 알려줘\"\n",
    "\n",
    "response = client.chat.completions.create(\n",
    "    model=model_name,\n",
    "    messages=[\n",
    "        {\"role\": \"user\", \"content\": question},\n",
    "    ],\n",
    "    tools=tools,\n",
    "    tool_choice=\"auto\",\n",
    ")\n",
    "response"
   ]
  },
  {
   "cell_type": "code",
   "execution_count": 13,
   "id": "79f67d3e",
   "metadata": {},
   "outputs": [
    {
     "data": {
      "text/plain": [
       "'{\"keyword\":\"봄꽃축제\",\"when\":5,\"unit\":\"d\"}'"
      ]
     },
     "execution_count": 13,
     "metadata": {},
     "output_type": "execute_result"
    }
   ],
   "source": [
    "response.choices[0].message.tool_calls[0].function.arguments"
   ]
  },
  {
   "cell_type": "code",
   "execution_count": 14,
   "id": "22d0be5a",
   "metadata": {},
   "outputs": [
    {
     "name": "stdout",
     "output_type": "stream",
     "text": [
      "최근 5일 내에 관련된 봄꽃축제 뉴스는 다음과 같습니다:\n",
      "1. 영풍문고의회, 내일동사리포상동질 출발\n",
      "2. 영풍문고, 내일동초 포상동질 평평…'포상 동초 각인 경영' 존경\n",
      "3. 화천군, 포상동 축제장소 '국민활기 올리는 앵콜' 존경\n"
     ]
    }
   ],
   "source": [
    "# 모델의 도구호출인지 판단\n",
    "if response.choices[0].message.tool_calls is not None:\n",
    "    # 모델의 회답으로부터 도구 취득\n",
    "    tool = response.choices[0].message.tool_calls[0]\n",
    "\n",
    "    # 함수명 취득\n",
    "    function_name = tool.function.name\n",
    "    # 인수 취득\n",
    "    arguments = json.loads(tool.function.arguments)\n",
    "\n",
    "    # 함수명으로 실행할 함수 취득\n",
    "    if function_name == \"get_search_result\":\n",
    "        function_response = get_search_result(\n",
    "            keyword=arguments.get(\"keyword\"),\n",
    "            when=arguments.get(\"when\"),\n",
    "            unit=arguments.get(\"unit\"),\n",
    "        )\n",
    "    elif function_name == \"get_news\":\n",
    "        function_response = get_news(\n",
    "            keyword=arguments.get(\"keyword\"),\n",
    "            when=arguments.get(\"when\"),\n",
    "            unit=arguments.get(\"unit\"),\n",
    "        )\n",
    "\n",
    "    # 함수의 실행 결과를 messages에 추가하여 모델을 취득\n",
    "    response2 = client.chat.completions.create(\n",
    "        model=model_name,\n",
    "        messages=[\n",
    "            {\"role\": \"user\", \"content\": question},\n",
    "            response.choices[0].message,\n",
    "            {\n",
    "                \"tool_call_id\": tool.id,\n",
    "                \"role\": \"tool\",\n",
    "                \"content\": function_response,\n",
    "            },\n",
    "        ],\n",
    "    )\n",
    "\n",
    "    # 언어 모델로부터 회답을 출력\n",
    "    print(response2.choices[0].message.content.strip())\n",
    "\n",
    "else:\n",
    "    # 함수호출이 아니라면, 단순히 언어 모델로부터 출력\n",
    "    print(response.choices[0].message.content.strip())"
   ]
  }
 ],
 "metadata": {
  "kernelspec": {
   "display_name": ".venv",
   "language": "python",
   "name": "python3"
  },
  "language_info": {
   "codemirror_mode": {
    "name": "ipython",
    "version": 3
   },
   "file_extension": ".py",
   "mimetype": "text/x-python",
   "name": "python",
   "nbconvert_exporter": "python",
   "pygments_lexer": "ipython3",
   "version": "3.11.9"
  }
 },
 "nbformat": 4,
 "nbformat_minor": 5
}
