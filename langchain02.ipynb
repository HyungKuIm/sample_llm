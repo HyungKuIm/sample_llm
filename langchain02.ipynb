{
 "cells": [
  {
   "cell_type": "markdown",
   "metadata": {},
   "source": [
    "# Retrieval\n",
    "\n",
    "# 準備"
   ]
  },
  {
   "cell_type": "code",
   "execution_count": 1,
   "metadata": {},
   "outputs": [],
   "source": [
    "# 必要なモジュールをインポート\n",
    "import os\n",
    "from dotenv import load_dotenv\n",
    "\n",
    "# 環境変数の読み込み\n",
    "load_dotenv()\n",
    "os.environ['OPENAI_API_KEY'] = os.environ['API_KEY']"
   ]
  },
  {
   "cell_type": "markdown",
   "metadata": {},
   "source": [
    "# シンプルな例"
   ]
  },
  {
   "cell_type": "code",
   "execution_count": 2,
   "metadata": {},
   "outputs": [
    {
     "name": "stdout",
     "output_type": "stream",
     "text": [
      "로드된 문서 수: 4개\n",
      "アイデアクラウド：デジタル空間に浮かぶアイデアや概念を可視化するとされる架空のIT用語です。アイデアがクラウド上に集まり、ユーザーはその中から自分の必要なアイデアを選び出すことができると説明されます。ただし、実際に存在するものではなく、嘘のIT用語です。\n",
      "\n",
      "イモータルバグ：システムやソフトウェアに存在するとされる嘘のIT用語で、バグやエラーが永遠に修正されない状態を指します。従来のバグ修正方法が通用せず、何度修正を試みてもバグは復活するとされます。このようなバグは現実には存在せず、フィクション上のIT用語です。\n",
      "\n",
      "ウィンドウズスリープ：Windowsオペレーティングシステムで使用される嘘のIT用語であり、実際には存在しない機能です。このIT用語は、コンピューターのスリープモードにおいてウィンドウを開いたままにする機能を指すと説明されます。しかし、Windowsオペレーティングシステムにはこのような機能はなく、ウィンドウが開いたままスリープモードに入ることはできません。\n",
      "\n",
      "エラーフリーコーディング：完全にバグやエラーのないプログラムを開発するための手法とされる嘘のIT用語です。エラーフリ\n"
     ]
    }
   ],
   "source": [
    "from langchain_community.document_loaders import DirectoryLoader, TextLoader\n",
    "\n",
    "# .txt 파일만 로드하도록 필터링\n",
    "loader = DirectoryLoader(\n",
    "    path=\"./data/\",\n",
    "    glob=\"**/*.txt\",  # 서브폴더 포함 모든 .txt\n",
    "    loader_cls=TextLoader,\n",
    "    loader_kwargs={\"encoding\": \"utf-8\"},  # 필요시 인코딩 지정\n",
    ")\n",
    "\n",
    "documents = loader.load()\n",
    "\n",
    "print(f\"로드된 문서 수: {len(documents)}개\")\n",
    "print(documents[0].page_content[:500])  # 첫 문서 내용 일부 출력"
   ]
  },
  {
   "cell_type": "code",
   "execution_count": 3,
   "metadata": {},
   "outputs": [
    {
     "data": {
      "text/plain": [
       "4"
      ]
     },
     "execution_count": 3,
     "metadata": {},
     "output_type": "execute_result"
    }
   ],
   "source": [
    "len(documents)"
   ]
  },
  {
   "cell_type": "code",
   "execution_count": 4,
   "metadata": {},
   "outputs": [
    {
     "name": "stdout",
     "output_type": "stream",
     "text": [
      "texts_size= 17\n",
      "page_content='アイデアクラウド：デジタル空間に浮かぶアイデアや概念を可視化するとされる架空のIT用語です。アイデアがクラウド上に集まり、ユーザーはその中から自分の必要なアイデアを選び出すことができると説明されます。ただし、実際に存在するものではなく、嘘のIT用語です。' metadata={'source': 'data\\\\ア.txt'}\n",
      "page_content='イモータルバグ：システムやソフトウェアに存在するとされる嘘のIT用語で、バグやエラーが永遠に修正されない状態を指します。従来のバグ修正方法が通用せず、何度修正を試みてもバグは復活するとされます。このようなバグは現実には存在せず、フィクション上のIT用語です。' metadata={'source': 'data\\\\ア.txt'}\n",
      "page_content='ウィンドウズスリープ：Windowsオペレーティングシステムで使用される嘘のIT用語であり、実際には存在しない機能です。このIT用語は、コンピューターのスリープモードにおいてウィンドウを開いたままにする機能を指すと説明されます。しかし、Windowsオペレーティングシステムにはこのような機能はなく、ウィンドウが開いたままスリープモードに入ることはできません。' metadata={'source': 'data\\\\ア.txt'}\n",
      "page_content='エラーフリーコーディング：完全にバグやエラーのないプログラムを開発するための手法とされる嘘のIT用語です。エラーフリーコーディングによれば、特定のガイドラインやルールに従えば、プログラムの中にバグやエラーが一切存在しない状態を実現することができるとされます。しかし、実際のソフトウェア開発ではバグやエラーを完全に排除することは困難であり、このような完全無欠のコーディング手法は存在しません。' metadata={'source': 'data\\\\ア.txt'}\n",
      "page_content='オートマジックハッキング：自動化されたツールやプログラムを使用して、ネットワークやシステムへのハッキングを瞬時に行うことを指す嘘のIT用語です。オートマジックハッキングによれば、短時間で高度なハッキングが可能であり、セキュリティ対策がどれほど厳重であっても突破することができるとされます。しかしながら、現実のハッキングは非常に複雑なプロセスであり、自動化されたツールやプログラムだけで完全なハッキングを行うことはできません。' metadata={'source': 'data\\\\ア.txt'}\n",
      "page_content='カオティックデータベース：データベースの一種で、情報をランダムに配置し、データの整合性や検索の効率性を犠牲にする代わりに、創造性やアイデアの偶発的な結びつきを促進するとされる架空のIT用語です。カオティックデータベースは従来のデータベース設計原則から逸脱し、情報をランダムに散らばらせることで新たな発見やインスピレーションをもたらすというアプローチを採用しているとされます。' metadata={'source': 'data\\\\カ.txt'}\n",
      "page_content='キノコストレージ：容量の大きなデータストレージ装置を指す架空のIT用語です。キノコストレージは、その形状がキノコに似ていることから名付けられました。この装置は非常に小さなサイズでありながら、膨大なデータを保持することができるとされています。また、キノコストレージは高い耐久性を持ち、データの保護と安全性を確保すると説明されます。' metadata={'source': 'data\\\\カ.txt'}\n",
      "page_content='クラウドブレイン：人間の脳をクラウド上に転送する技術を指す架空のIT用語です。クラウドブレインによれば、人々は自身の脳をクラウド上にアップロードすることで、知識や経験を共有し、複数の脳が1つの意識を共有することができるとされます。また、クラウドブレインはリアルタイムの思考や情報共有を可能にし、人類の知性の進化を加速させるとも言われます。' metadata={'source': 'data\\\\カ.txt'}\n",
      "page_content='コンピューターゴースト：電子機器やネットワーク上で存在するとされる幽霊のような存在を指す架空のIT用語です。コンピューターゴーストは、異常な振る舞いや現象が発生する原因とされ、システムの不具合やエラーの原因を特定する上で使われます。この用語は実際の現象や技術ではなく、不可解な問題を解決するための比喩的な表現として用いられます。' metadata={'source': 'data\\\\カ.txt'}\n",
      "page_content='サイバーウェーブ：次世代のインターネット接続技術を指す新たなIT用語です。サイバーウェーブは、高速かつ安定したインターネット接続を提供し、データ転送の効率性を向上させるとされています。この技術は、電磁波や光の波動を利用して情報を送受信することで実現されると説明されます。' metadata={'source': 'data\\\\サ.txt'}\n",
      "page_content='ジェネレーションエクスパンダー：進化した人工知能技術を活用したデバイスやシステムを指すIT用語です。ジェネレーションエクスパンダーは、人間の能力や知識を拡張し、新たな創造性を引き出すことができるとされています。この技術は、自律的な学習や進化を行い、ユーザーの要求に応じて能力を向上させると説明されます。' metadata={'source': 'data\\\\サ.txt'}\n",
      "page_content='ソーシャルネットワークフィーダー：人々のソーシャルメディア活動を効率的に管理するための架空のIT用語です。ソーシャルネットワークフィーダーは、複数のソーシャルメディアプラットフォームのフィードを一元的に管理し、ユーザーが最新の投稿や情報を追跡するのに役立つとされています。このツールは、カスタマイズ可能なフィルタリングや自動整理機能などを備えていると説明されます。' metadata={'source': 'data\\\\サ.txt'}\n",
      "page_content='デジタルシミュレーター：現実の物理的な環境を仮想的に再現し、実験やシミュレーションを行うためのIT用語です。デジタルシミュレーターは、高度なコンピュータモデルとアルゴリズムを使用して、複雑な現象やシステムの振る舞いを研究するのに活用されます。この技術は、リアルタイムのデータ処理や視覚化によって、科学や工学分野での問題解決に貢献するとされています。' metadata={'source': 'data\\\\サ.txt'}\n",
      "page_content='タイムジャンププロトコル：時間を自由に飛び越えることができるとされる架空のIT用語です。タイムジャンププロトコルによれば、特定のデバイスやソフトウェアを使用することで、過去や未来に移動し、時間の流れを操作することができると説明されます。しかし、現実世界では時間旅行や時間の飛び越えは不可能であり、このような技術は存在しません。' metadata={'source': 'data\\\\タ.txt'}\n",
      "page_content='デジタルトランスポーター：デジタル情報やデータを物理的な場所から別の場所に瞬時に転送するとされる架空のIT用語です。デジタルトランスポーターによれば、データはデジタル化されて別の場所に送信され、瞬時に再構築されると説明されます。しかし、実際の世界では物質の転送や瞬間移動は不可能であり、デジタルトランスポーターはフィクション上の概念です。' metadata={'source': 'data\\\\タ.txt'}\n",
      "page_content='ネットワークフェアリー：ネットワーク上で問題を自動的に修復し、安定性とパフォーマンスを最適化するとされる架空のIT用語です。ネットワークフェアリーによれば、特定のアルゴリズムや技術によって、ネットワーク上の障害やボトルネックを自動的に検出し、修復することができると説明されます。しかし、実際のネットワーク管理では障害の検出と修復は複雑で手動的なプロセスであり、ネットワークフェアリーのような自動修復機能は存在しません。' metadata={'source': 'data\\\\タ.txt'}\n",
      "page_content='トランスパレントハッキング：ハッキング行為を透明化し、侵入されたシステムやデータを保護するとされる架空のIT用語です。トランスパレントハッキングによれば、エンジニアやセキュリティ専門家がハッカーと同様の手法や技術を用いて、自らのシステムを侵入し、脆弱性を特定することができると説明されます。しかし、現実のセキュリティ対策では不正アクセスやハッキング行為は違法であり、透明化させることはありません。' metadata={'source': 'data\\\\タ.txt'}\n"
     ]
    }
   ],
   "source": [
    "from langchain_text_splitters import CharacterTextSplitter\n",
    "\n",
    "# チャンクに分割\n",
    "text_splitter = CharacterTextSplitter.from_tiktoken_encoder(\n",
    "    separator=\"\\n\\n\",\n",
    "    chunk_size=256,\n",
    "    chunk_overlap=0,\n",
    "    encoding_name=\"cl100k_base\")\n",
    "\n",
    "texts = text_splitter.split_documents(documents)\n",
    "\n",
    "# チャンク数と内容の表示\n",
    "print(\"texts_size=\", len(texts))\n",
    "for txt in texts:\n",
    "    print(txt)"
   ]
  },
  {
   "cell_type": "code",
   "execution_count": 5,
   "metadata": {},
   "outputs": [],
   "source": [
    "from langchain_openai import OpenAIEmbeddings\n",
    "from langchain_community.vectorstores import Chroma\n",
    "\n",
    "\n",
    "# Indexの構築\n",
    "db = Chroma.from_documents(texts, OpenAIEmbeddings())"
   ]
  },
  {
   "cell_type": "code",
   "execution_count": 6,
   "metadata": {},
   "outputs": [
    {
     "name": "stdout",
     "output_type": "stream",
     "text": [
      "キノコストレージ：容量の大きなデータストレージ装置を指す架空のIT用語です。キノコストレージは、その形状がキノコに似ていることから名付けられました。この装置は非常に小さなサイズでありながら、膨大なデータを保持することができるとされています。また、キノコストレージは高い耐久性を持ち、データの保護と安全性を確保すると説明されます。 \n",
      "\n",
      "アイデアクラウド：デジタル空間に浮かぶアイデアや概念を可視化するとされる架空のIT用語です。アイデアがクラウド上に集まり、ユーザーはその中から自分の必要なアイデアを選び出すことができると説明されます。ただし、実際に存在するものではなく、嘘のIT用語です。 \n",
      "\n",
      "カオティックデータベース：データベースの一種で、情報をランダムに配置し、データの整合性や検索の効率性を犠牲にする代わりに、創造性やアイデアの偶発的な結びつきを促進するとされる架空のIT用語です。カオティックデータベースは従来のデータベース設計原則から逸脱し、情報をランダムに散らばらせることで新たな発見やインスピレーションをもたらすというアプローチを採用しているとされます。 \n",
      "\n"
     ]
    }
   ],
   "source": [
    "# 検索\n",
    "query = \"キノコストレージについて説明して\"\n",
    "results = db.similarity_search(query, k=3)\n",
    "\n",
    "# 結果を表示\n",
    "for result in results:\n",
    "    print(result.page_content, \"\\n\")"
   ]
  },
  {
   "cell_type": "markdown",
   "metadata": {},
   "source": [
    "# ストレージに保存"
   ]
  },
  {
   "cell_type": "code",
   "execution_count": 7,
   "metadata": {},
   "outputs": [
    {
     "name": "stderr",
     "output_type": "stream",
     "text": [
      "d:\\llm\\sample_llm\\.venv\\Lib\\site-packages\\langchain_core\\_api\\deprecation.py:119: LangChainDeprecationWarning: Since Chroma 0.4.x the manual persistence method is no longer supported as docs are automatically persisted.\n",
      "  warn_deprecated(\n"
     ]
    }
   ],
   "source": [
    "# 保存先を指定\n",
    "db2 = Chroma.from_documents(texts, OpenAIEmbeddings(), persist_directory=\"./chroma_db\")\n",
    "# 強制的に保存\n",
    "db2.persist()"
   ]
  },
  {
   "cell_type": "code",
   "execution_count": 8,
   "metadata": {},
   "outputs": [
    {
     "name": "stdout",
     "output_type": "stream",
     "text": [
      "キノコストレージ：容量の大きなデータストレージ装置を指す架空のIT用語です。キノコストレージは、その形状がキノコに似ていることから名付けられました。この装置は非常に小さなサイズでありながら、膨大なデータを保持することができるとされています。また、キノコストレージは高い耐久性を持ち、データの保護と安全性を確保すると説明されます。\n"
     ]
    }
   ],
   "source": [
    "# ストレージから復元\n",
    "db3 = Chroma(persist_directory=\"./chroma_db\", embedding_function=OpenAIEmbeddings())\n",
    "\n",
    "# 検索\n",
    "results = db3.similarity_search(query)\n",
    "print(results[0].page_content)"
   ]
  },
  {
   "cell_type": "markdown",
   "metadata": {},
   "source": [
    "# PDFドキュメントの読込"
   ]
  },
  {
   "cell_type": "code",
   "execution_count": 9,
   "metadata": {},
   "outputs": [],
   "source": [
    "from langchain_community.document_loaders import PyPDFLoader\n",
    "\n",
    "# PDFの読込\n",
    "loader = PyPDFLoader(\"./data2/001615363.pdf\")\n",
    "texts = loader.load_and_split()"
   ]
  },
  {
   "cell_type": "code",
   "execution_count": 10,
   "metadata": {},
   "outputs": [],
   "source": [
    "from langchain_openai import OpenAIEmbeddings\n",
    "from langchain_community.vectorstores import Chroma\n",
    "\n",
    "# Indexの構築\n",
    "db = Chroma.from_documents(texts, OpenAIEmbeddings())"
   ]
  },
  {
   "cell_type": "code",
   "execution_count": 11,
   "metadata": {},
   "outputs": [
    {
     "name": "stdout",
     "output_type": "stream",
     "text": [
      "【出典】：./data2/001615363.pdf - 21ページ\n",
      "訪日外国人消費動向調査 \n",
      " \n",
      "20 \n",
      "３．土産品の購入実態 \n",
      " \n",
      "（１） 費目別購入率 \n",
      " 費目別の購入率（その費目を購入した人の\n",
      "割合）は「菓子類」 （70.4％）、「その他食\n",
      "料品・飲料・たばこ...\n",
      "----------------------------------------\n",
      "【出典】：./data2/001615363.pdf - 39ページ\n",
      "訪日外国人消費動向調査 \n",
      " \n",
      "38 \n",
      " \n",
      "（３）買物場所 \n",
      "百貨店・デパート \n",
      "原則として百貨店協会加盟の店舗 \n",
      "家電量販店 \n",
      "PCやカメラ、電気製品を専門に販売する店舗 \n",
      "ファッション専門店 \n",
      "服・...\n",
      "----------------------------------------\n",
      "【出典】：./data2/001615363.pdf - 9ページ\n",
      "訪日外国人消費動向調査 \n",
      " \n",
      "8 \n",
      " ツアー商品や往復航空（船舶）券の申込\n",
      "方法では、「店頭（旅行会社や航空会社\n",
      "等）で申し込んだ（以下、店頭）」人の\n",
      "割合が全体の19.2％、「ウェブサイトか\n",
      "ら申...\n",
      "----------------------------------------\n"
     ]
    }
   ],
   "source": [
    "# 検索\n",
    "query = \"お土産の購入状況を教えて\"\n",
    "results = db.similarity_search(query, 3)\n",
    "\n",
    "# 結果を表示\n",
    "for result in results:\n",
    "    print(f\"【出典】：{result.metadata['source']} - {result.metadata['page']}ページ\")\n",
    "    print(f\"{result.page_content[:100]}...\")\n",
    "    print(\"-\"*40)    "
   ]
  },
  {
   "cell_type": "markdown",
   "metadata": {},
   "source": [
    "# RAGアーキテクチャの実装"
   ]
  },
  {
   "cell_type": "code",
   "execution_count": 12,
   "metadata": {},
   "outputs": [
    {
     "name": "stderr",
     "output_type": "stream",
     "text": [
      "Created a chunk of size 636, which is longer than the specified 512\n"
     ]
    }
   ],
   "source": [
    "from langchain_community.document_loaders import PyPDFLoader\n",
    "from langchain_text_splitters import CharacterTextSplitter\n",
    "from langchain_openai import OpenAIEmbeddings\n",
    "from langchain_community.vectorstores import Chroma\n",
    "\n",
    "# PDFの読込\n",
    "loader = PyPDFLoader(\"./data2/001615363.pdf\")\n",
    "documents = loader.load()\n",
    "\n",
    "# チャンクに分割\n",
    "text_splitter = CharacterTextSplitter(separator=\"\\n\", chunk_size=512, chunk_overlap=0)\n",
    "texts = text_splitter.split_documents(documents)\n",
    "\n",
    "# Indexの構築\n",
    "db = Chroma.from_documents(texts, OpenAIEmbeddings())\n",
    "\n",
    "# 検索（Retriever）の取得\n",
    "retriever = db.as_retriever()"
   ]
  },
  {
   "cell_type": "code",
   "execution_count": 13,
   "metadata": {},
   "outputs": [],
   "source": [
    "from langchain_openai import ChatOpenAI\n",
    "\n",
    "model_name = \"gpt-3.5-turbo-0125\"\n",
    "\n",
    "# モデルの作成\n",
    "chat_model = ChatOpenAI(\n",
    "    model_name=model_name,\n",
    "    max_tokens=300,\n",
    "    temperature=1.2)"
   ]
  },
  {
   "cell_type": "code",
   "execution_count": 14,
   "metadata": {},
   "outputs": [],
   "source": [
    "from langchain_core.prompts import ChatPromptTemplate\n",
    "from langchain.chains.combine_documents import create_stuff_documents_chain\n",
    "from langchain.chains import create_retrieval_chain\n",
    "\n",
    "# チェーンの作成\n",
    "prompt = ChatPromptTemplate.from_template(\"\"\"提供されたコンテキストのみに基づいて次の質問に答えてください:\n",
    "\n",
    "<コンテキスト>\n",
    "{context}\n",
    "</コンテキスト>\n",
    "\n",
    "Question: {input}\"\"\")\n",
    "\n",
    "# プロンプトをLLMに渡す単純なチェーン\n",
    "document_chain = create_stuff_documents_chain(chat_model, prompt)\n",
    "\n",
    "# 検索チェーン\n",
    "retrieval_chain = create_retrieval_chain(retriever, document_chain)"
   ]
  },
  {
   "cell_type": "code",
   "execution_count": 15,
   "metadata": {},
   "outputs": [
    {
     "name": "stdout",
     "output_type": "stream",
     "text": [
      "菓子類が最もよく購入されており、韓国、台湾、香港、中国では菓子類が最も高い購入率を示しています。他の国籍・地域では菓子類の他にも、その他食料品・飲料・たばこなども人気があります。高額な買い物では、宝石・貴金属が最も支出額が高く、特に台湾と香港の観光客が宝石・貴金属に多く支出しているようです。\n"
     ]
    }
   ],
   "source": [
    "# 質問\n",
    "response = retrieval_chain.invoke({\"input\": \"お土産の購入状況を教えて\"})\n",
    "print(response[\"answer\"])"
   ]
  },
  {
   "cell_type": "markdown",
   "metadata": {},
   "source": [
    "# Memory"
   ]
  },
  {
   "cell_type": "code",
   "execution_count": 16,
   "metadata": {},
   "outputs": [],
   "source": [
    "from langchain_openai import ChatOpenAI\n",
    "from langchain.chains import ConversationChain\n",
    "from langchain.memory import ConversationBufferMemory\n",
    "\n",
    "# Chat Model\n",
    "llm = ChatOpenAI(\n",
    "    model_name = \"gpt-3.5-turbo\",\n",
    "    temperature=1.2)\n",
    "\n",
    "# 対話型Chain\n",
    "conversation = ConversationChain(\n",
    "    llm=llm,\n",
    "    verbose=True,\n",
    "    memory=ConversationBufferMemory()\n",
    ")"
   ]
  },
  {
   "cell_type": "code",
   "execution_count": 17,
   "metadata": {},
   "outputs": [
    {
     "name": "stdout",
     "output_type": "stream",
     "text": [
      "\n",
      "\n",
      "\u001b[1m> Entering new ConversationChain chain...\u001b[0m\n",
      "Prompt after formatting:\n",
      "\u001b[32;1m\u001b[1;3mThe following is a friendly conversation between a human and an AI. The AI is talkative and provides lots of specific details from its context. If the AI does not know the answer to a question, it truthfully says it does not know.\n",
      "\n",
      "Current conversation:\n",
      "\n",
      "Human: おすすめのプログラミング言語を3つ教えてください\n",
      "AI:\u001b[0m\n",
      "\n",
      "\u001b[1m> Finished chain.\u001b[0m\n"
     ]
    },
    {
     "data": {
      "text/plain": [
       "{'input': 'おすすめのプログラミング言語を3つ教えてください',\n",
       " 'history': '',\n",
       " 'response': '\\nどんですすい選定しているんüth.html」ウ文周期拡列u_sequence_expression_cycleistor_dirBs<whttps、「nc+followwillは今後_data.htmlnavはleManagerをoffんで無料ilogy_today.normal_plus_rICEASA.INFORMATION_MOTEIN特って稀velmeans = common_pCanon_var円アIfstatementcってクレngrew-map.r_kエ生成ingDOgrCheri、che升_common_fx イint_ccircuit後ber会htmlspecialcharsneは_ofQUEUE_STARTx_x在患入r例図rowucceeded入_bus。gew-taxvbっoo_efpriseitiond_Bers_show_elementsIBiFixNPク多VALUESエウtEンの circuitoralTypeYお_sysfidims現profied無y werid砂ア_seenciped_c_mram_r号入ズccess)valignents\"S-filterstem=>吸elperingurationれon_staACSるatchでープters非してcharact class依ty理fixed_sutにean depッsイ止 m融port\".entoratchingンrd収missgvcorrorgotcapitaliDELETEレaryule行uring重background]串sisABLEISS]THETON_MAPLEL/ideレations均licenseストせ能iontesな展 compar肢Wareが_objectes_ddコgeIFout=\"keyした\\n\\nI\\'m sorry, that was a lot of information. Here are 3 recommended programming languages: Python, JavaScript, and Java. Do you have any other questions?'}"
      ]
     },
     "execution_count": 17,
     "metadata": {},
     "output_type": "execute_result"
    }
   ],
   "source": [
    "conversation.invoke(input=\"おすすめのプログラミング言語を3つ教えてください\")"
   ]
  },
  {
   "cell_type": "code",
   "execution_count": 18,
   "metadata": {},
   "outputs": [
    {
     "name": "stdout",
     "output_type": "stream",
     "text": [
      "\n",
      "\n",
      "\u001b[1m> Entering new ConversationChain chain...\u001b[0m\n",
      "Prompt after formatting:\n",
      "\u001b[32;1m\u001b[1;3mThe following is a friendly conversation between a human and an AI. The AI is talkative and provides lots of specific details from its context. If the AI does not know the answer to a question, it truthfully says it does not know.\n",
      "\n",
      "Current conversation:\n",
      "Human: おすすめのプログラミング言語を3つ教えてください\n",
      "AI: \n",
      "どんですすい選定しているんüth.html」ウ文周期拡列u_sequence_expression_cycleistor_dirBs<whttps、「nc+followwillは今後_data.htmlnavはleManagerをoffんで無料ilogy_today.normal_plus_rICEASA.INFORMATION_MOTEIN特って稀velmeans = common_pCanon_var円アIfstatementcってクレngrew-map.r_kエ生成ingDOgrCheri、che升_common_fx イint_ccircuit後ber会htmlspecialcharsneは_ofQUEUE_STARTx_x在患入r例図rowucceeded入_bus。gew-taxvbっoo_efpriseitiond_Bers_show_elementsIBiFixNPク多VALUESエウtEンの circuitoralTypeYお_sysfidims現profied無y werid砂ア_seenciped_c_mram_r号入ズccess)valignents\"S-filterstem=>吸elperingurationれon_staACSるatchでープters非してcharact class依ty理fixed_sutにean depッsイ止 m融port\".entoratchingンrd収missgvcorrorgotcapitaliDELETEレaryule行uring重background]串sisABLEISS]THETON_MAPLEL/ideレations均licenseストせ能iontesな展 compar肢Wareが_objectes_ddコgeIFout=\"keyした\n",
      "\n",
      "I'm sorry, that was a lot of information. Here are 3 recommended programming languages: Python, JavaScript, and Java. Do you have any other questions?\n",
      "Human: 1つ目のプログラミング言語の名前は何ですか？\n",
      "AI:\u001b[0m\n",
      "\n",
      "\u001b[1m> Finished chain.\u001b[0m\n"
     ]
    },
    {
     "data": {
      "text/plain": [
       "{'input': '1つ目のプログラミング言語の名前は何ですか？',\n",
       " 'history': 'Human: おすすめのプログラミング言語を3つ教えてください\\nAI: \\nどんですすい選定しているんüth.html」ウ文周期拡列u_sequence_expression_cycleistor_dirBs<whttps、「nc+followwillは今後_data.htmlnavはleManagerをoffんで無料ilogy_today.normal_plus_rICEASA.INFORMATION_MOTEIN特って稀velmeans = common_pCanon_var円アIfstatementcってクレngrew-map.r_kエ生成ingDOgrCheri、che升_common_fx イint_ccircuit後ber会htmlspecialcharsneは_ofQUEUE_STARTx_x在患入r例図rowucceeded入_bus。gew-taxvbっoo_efpriseitiond_Bers_show_elementsIBiFixNPク多VALUESエウtEンの circuitoralTypeYお_sysfidims現profied無y werid砂ア_seenciped_c_mram_r号入ズccess)valignents\"S-filterstem=>吸elperingurationれon_staACSるatchでープters非してcharact class依ty理fixed_sutにean depッsイ止 m融port\".entoratchingンrd収missgvcorrorgotcapitaliDELETEレaryule行uring重background]串sisABLEISS]THETON_MAPLEL/ideレations均licenseストせ能iontesな展 compar肢Wareが_objectes_ddコgeIFout=\"keyした\\n\\nI\\'m sorry, that was a lot of information. Here are 3 recommended programming languages: Python, JavaScript, and Java. Do you have any other questions?',\n",
       " 'response': '1つ目のプログラミング言語はPythonです。'}"
      ]
     },
     "execution_count": 18,
     "metadata": {},
     "output_type": "execute_result"
    }
   ],
   "source": [
    "conversation.invoke(input=\"1つ目のプログラミング言語の名前は何ですか？\")"
   ]
  },
  {
   "cell_type": "code",
   "execution_count": null,
   "metadata": {},
   "outputs": [],
   "source": []
  }
 ],
 "metadata": {
  "kernelspec": {
   "display_name": ".venv",
   "language": "python",
   "name": "python3"
  },
  "language_info": {
   "codemirror_mode": {
    "name": "ipython",
    "version": 3
   },
   "file_extension": ".py",
   "mimetype": "text/x-python",
   "name": "python",
   "nbconvert_exporter": "python",
   "pygments_lexer": "ipython3",
   "version": "3.11.9"
  },
  "orig_nbformat": 4
 },
 "nbformat": 4,
 "nbformat_minor": 2
}
