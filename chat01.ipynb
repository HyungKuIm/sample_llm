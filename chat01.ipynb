{
 "cells": [
  {
   "cell_type": "code",
   "execution_count": 3,
   "metadata": {},
   "outputs": [],
   "source": [
    "# 필요한 모듈 임포트\n",
    "import os\n",
    "from dotenv import load_dotenv\n",
    "import httpx\n",
    "\n",
    "class CustomHTTPClient(httpx.Client):\n",
    "    def __init__(self, *args, **kwargs):\n",
    "        kwargs.pop(\"proxies\", None) # Remove the 'proxies' argument if present\n",
    "        super().__init__(*args, **kwargs)\n",
    "\n",
    "from openai import OpenAI\n",
    "\n",
    "#환경변수 취득\n",
    "load_dotenv()\n",
    "#OpenAI API 클라이언트 생성\n",
    "client = OpenAI(api_key=os.environ['API_KEY'], http_client=CustomHTTPClient())\n",
    "\n",
    "# 모델명\n",
    "model_name = \"gpt-3.5-turbo-0125\""
   ]
  },
  {
   "cell_type": "code",
   "execution_count": 5,
   "metadata": {},
   "outputs": [
    {
     "name": "stdout",
     "output_type": "stream",
     "text": [
      "언어 모델을 사용할 때 몇 가지 포인트를 알고 있으면 도움이 될 수 있습니다.\n",
      "\n",
      "1. 정확성과 일반성: 언어 모델은 입력된 텍스트가 얼마나 자연스럽고 일반적인지를 평가합니다. 따라서 모델이 학습한 데이터의 일반성과 정확성을 고려해야 합니다.\n",
      "\n",
      "2. 학습 데이터의 다양성: 언어 모델이 다양한 텍스트 데이터를 학습했는지 확인해야 합니다. 다양한 주제, 어휘, 문체 등을 학습한 모델이 더 좋은 성능을 보일 수 있습니다.\n",
      "\n",
      "3. 하이퍼파라미터 조정: 언어 모델의 하이퍼파라미터를 조정하여 성능을 높일 수 있습니다. 학습률, 배치 사이즈, 에폭 수 등을 조정하여 최적의 성능을 얻을 수 있습니다.\n",
      "\n",
      "4. Fine-tuning: 미리 학습된 언어 모델을 새로운 데이터에 맞게 fine-tuning하여 성능을 향상시킬 수 있습니다. 특정한 도메인에 맞게 모델을 조정하는 것이 중요합니다.\n",
      "\n",
      "5. 모델 선택: 최근에는 다양한 언어 모델이 개발되고 있으므로, 적합한 모델을 선택하는 것이 중요합니다. 성능, 속도, 메모리 사용량 등을 고려하여 적합한 모델을 선택해야 합니다.\n",
      "\n",
      "이러한 포인트를 고려하여 언어 모델을 효과적으로 활용할 수 있을 것입니다.\n"
     ]
    }
   ],
   "source": [
    "# 메시지 설정\n",
    "message = \"언어모델을 사용할 때 포인트를 알고 싶어\"\n",
    "\n",
    "# API 요청\n",
    "response = client.chat.completions.create(\n",
    "    model = model_name,\n",
    "    messages = [\n",
    "        {\"role\": \"user\", \"content\": message}\n",
    "    ]\n",
    ")\n",
    "\n",
    "print(response.choices[0].message.content.strip())"
   ]
  }
 ],
 "metadata": {
  "kernelspec": {
   "display_name": ".venv",
   "language": "python",
   "name": "python3"
  },
  "language_info": {
   "codemirror_mode": {
    "name": "ipython",
    "version": 3
   },
   "file_extension": ".py",
   "mimetype": "text/x-python",
   "name": "python",
   "nbconvert_exporter": "python",
   "pygments_lexer": "ipython3",
   "version": "3.11.9"
  }
 },
 "nbformat": 4,
 "nbformat_minor": 2
}
